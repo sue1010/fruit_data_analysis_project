{
 "cells": [
  {
   "cell_type": "code",
   "execution_count": 1,
   "id": "805cdf33",
   "metadata": {},
   "outputs": [],
   "source": [
    "from selenium.webdriver import Chrome\n",
    "import time\n",
    "import sqlite3\n",
    "from pandas.io import sql\n",
    "import os\n",
    "import pandas as pd"
   ]
  },
  {
   "cell_type": "code",
   "execution_count": 2,
   "id": "1059a58a",
   "metadata": {},
   "outputs": [],
   "source": [
    "from selenium.webdriver.common.by import By\n",
    "from selenium.webdriver.support.ui import Select"
   ]
  },
  {
   "cell_type": "code",
   "execution_count": 3,
   "id": "399a37e1",
   "metadata": {},
   "outputs": [],
   "source": [
    "from selenium import webdriver\n",
    "\n",
    "options = webdriver.ChromeOptions()\n",
    "options.add_argument(\"--start-maximized\");\n",
    "\n",
    "browser = webdriver.Chrome('chromedriver', options = options)"
   ]
  },
  {
   "cell_type": "code",
   "execution_count": 4,
   "id": "63e5057a",
   "metadata": {},
   "outputs": [],
   "source": [
    "browser.get('https://fruit.nihhs.go.kr/apple/qlityInfo_frutQlity.do')\n",
    "browser.implicitly_wait(5)"
   ]
  },
  {
   "cell_type": "code",
   "execution_count": 9,
   "id": "bed65246",
   "metadata": {},
   "outputs": [],
   "source": [
    "Year = 2015\n",
    "\n",
    "for i in range(8):\n",
    "    dropdown = Select(browser.find_element(by = By.XPATH, value = '//*[@id=\"lastYear\"]'))\n",
    "    dropdown.select_by_index(i)\n",
    "    browser.find_element(by = By.XPATH, value = '//*[@id=\"searchBtn\"]').click()\n",
    "    \n",
    "#     information(Year)\n",
    "    Year += 1\n",
    "    \n",
    "    time.sleep(2)"
   ]
  },
  {
   "cell_type": "code",
   "execution_count": 7,
   "id": "8c47ad0b",
   "metadata": {},
   "outputs": [],
   "source": [
    "## 정보 추출\n",
    "def information(year):\n",
    "    dropdown.select_by_index(i)\n",
    "    \n",
    "    '//*[@id=\"tablebox2\"]/table/tbody/tr[1]'"
   ]
  },
  {
   "cell_type": "code",
   "execution_count": 26,
   "id": "2980abb8",
   "metadata": {},
   "outputs": [
    {
     "ename": "AttributeError",
     "evalue": "'str' object has no attribute 'info'",
     "output_type": "error",
     "traceback": [
      "\u001b[1;31m---------------------------------------------------------------------------\u001b[0m",
      "\u001b[1;31mAttributeError\u001b[0m                            Traceback (most recent call last)",
      "\u001b[1;32m~\\AppData\\Local\\Temp\\ipykernel_6592\\437559642.py\u001b[0m in \u001b[0;36m<module>\u001b[1;34m\u001b[0m\n\u001b[0;32m      1\u001b[0m \u001b[0mindex\u001b[0m \u001b[1;33m=\u001b[0m \u001b[1;36m2023\u001b[0m\u001b[1;33m\u001b[0m\u001b[1;33m\u001b[0m\u001b[0m\n\u001b[0;32m      2\u001b[0m \u001b[0mindex\u001b[0m \u001b[1;33m=\u001b[0m \u001b[0mstr\u001b[0m\u001b[1;33m(\u001b[0m\u001b[0mindex\u001b[0m\u001b[1;33m)\u001b[0m\u001b[1;33m\u001b[0m\u001b[1;33m\u001b[0m\u001b[0m\n\u001b[1;32m----> 3\u001b[1;33m \u001b[0mprint\u001b[0m\u001b[1;33m(\u001b[0m\u001b[0mindex\u001b[0m\u001b[1;33m.\u001b[0m\u001b[0minfo\u001b[0m\u001b[1;33m(\u001b[0m\u001b[1;33m)\u001b[0m\u001b[1;33m)\u001b[0m\u001b[1;33m\u001b[0m\u001b[1;33m\u001b[0m\u001b[0m\n\u001b[0m",
      "\u001b[1;31mAttributeError\u001b[0m: 'str' object has no attribute 'info'"
     ]
    }
   ],
   "source": [
    "index = 2023\n",
    "index = str(index)"
   ]
  },
  {
   "cell_type": "code",
   "execution_count": 27,
   "id": "2686c922",
   "metadata": {},
   "outputs": [
    {
     "ename": "TimeoutException",
     "evalue": "Message: timeout: Timed out receiving message from renderer: 600.000\n  (Session info: chrome=108.0.5359.125)\nStacktrace:\nBacktrace:\n\t(No symbol) [0x0115F243]\n\t(No symbol) [0x010E7FD1]\n\t(No symbol) [0x00FDD04D]\n\t(No symbol) [0x00FCFC24]\n\t(No symbol) [0x00FCFA5C]\n\t(No symbol) [0x00FCE7E8]\n\t(No symbol) [0x00FCEDC2]\n\t(No symbol) [0x00FCDC55]\n\t(No symbol) [0x00FD899C]\n\t(No symbol) [0x00FCD735]\n\t(No symbol) [0x00FCF703]\n\t(No symbol) [0x00FCE7E8]\n\t(No symbol) [0x00FCEDC2]\n\t(No symbol) [0x00FCDC55]\n\t(No symbol) [0x00FD6493]\n\t(No symbol) [0x00FCD735]\n\t(No symbol) [0x00FCF703]\n\t(No symbol) [0x00FCE7E8]\n\t(No symbol) [0x00FCEDC2]\n\t(No symbol) [0x00FCDC55]\n\t(No symbol) [0x00FD4072]\n\t(No symbol) [0x00FCD735]\n\t(No symbol) [0x00FCF703]\n\t(No symbol) [0x00FCE7E8]\n\t(No symbol) [0x00FCEDC2]\n\t(No symbol) [0x00FCDC55]\n\t(No symbol) [0x00FC7E66]\n\t(No symbol) [0x00FCD735]\n\t(No symbol) [0x00FCCEE0]\n\t(No symbol) [0x00FCCFD5]\n\t(No symbol) [0x00FCD388]\n\t(No symbol) [0x00FCD1F8]\n\t(No symbol) [0x00FDE5C3]\n\t(No symbol) [0x0103C1D8]\n\t(No symbol) [0x01028386]\n\t(No symbol) [0x0100163C]\n\t(No symbol) [0x0100269D]\n\tGetHandleVerifier [0x013F9A22+2655074]\n\tGetHandleVerifier [0x013ECA24+2601828]\n\tGetHandleVerifier [0x01208C0A+619850]\n\tGetHandleVerifier [0x01207830+614768]\n\t(No symbol) [0x010F05FC]\n\t(No symbol) [0x010F5968]\n\t(No symbol) [0x010F5A55]\n\t(No symbol) [0x0110051B]\n\tBaseThreadInitThunk [0x7692FEF9+25]\n\tRtlGetAppContainerNamedObjectPath [0x777E7BBE+286]\n\tRtlGetAppContainerNamedObjectPath [0x777E7B8E+238]\n",
     "output_type": "error",
     "traceback": [
      "\u001b[1;31m---------------------------------------------------------------------------\u001b[0m",
      "\u001b[1;31mTimeoutException\u001b[0m                          Traceback (most recent call last)",
      "\u001b[1;32m~\\AppData\\Local\\Temp\\ipykernel_6592\\678037410.py\u001b[0m in \u001b[0;36m<module>\u001b[1;34m\u001b[0m\n\u001b[1;32m----> 1\u001b[1;33m \u001b[0mbox_id\u001b[0m \u001b[1;33m=\u001b[0m \u001b[0mbrowser\u001b[0m\u001b[1;33m.\u001b[0m\u001b[0mfind_element\u001b[0m\u001b[1;33m(\u001b[0m\u001b[0mby\u001b[0m \u001b[1;33m=\u001b[0m \u001b[0mBy\u001b[0m\u001b[1;33m.\u001b[0m\u001b[0mXPATH\u001b[0m\u001b[1;33m,\u001b[0m \u001b[0mvalue\u001b[0m \u001b[1;33m=\u001b[0m \u001b[1;34m'//*[@id=\"tablebox2\"]'\u001b[0m\u001b[1;33m)\u001b[0m\u001b[1;33m\u001b[0m\u001b[1;33m\u001b[0m\u001b[0m\n\u001b[0m\u001b[0;32m      2\u001b[0m \u001b[0mprint\u001b[0m\u001b[1;33m(\u001b[0m\u001b[0mbox_id\u001b[0m\u001b[1;33m.\u001b[0m\u001b[0mtext\u001b[0m\u001b[1;33m)\u001b[0m\u001b[1;33m\u001b[0m\u001b[1;33m\u001b[0m\u001b[0m\n",
      "\u001b[1;32m~\\anaconda3\\lib\\site-packages\\selenium\\webdriver\\remote\\webdriver.py\u001b[0m in \u001b[0;36mfind_element\u001b[1;34m(self, by, value)\u001b[0m\n\u001b[0;32m   1249\u001b[0m             \u001b[0mvalue\u001b[0m \u001b[1;33m=\u001b[0m \u001b[1;34m'[name=\"%s\"]'\u001b[0m \u001b[1;33m%\u001b[0m \u001b[0mvalue\u001b[0m\u001b[1;33m\u001b[0m\u001b[1;33m\u001b[0m\u001b[0m\n\u001b[0;32m   1250\u001b[0m \u001b[1;33m\u001b[0m\u001b[0m\n\u001b[1;32m-> 1251\u001b[1;33m         return self.execute(Command.FIND_ELEMENT, {\n\u001b[0m\u001b[0;32m   1252\u001b[0m             \u001b[1;34m'using'\u001b[0m\u001b[1;33m:\u001b[0m \u001b[0mby\u001b[0m\u001b[1;33m,\u001b[0m\u001b[1;33m\u001b[0m\u001b[1;33m\u001b[0m\u001b[0m\n\u001b[0;32m   1253\u001b[0m             'value': value})['value']\n",
      "\u001b[1;32m~\\anaconda3\\lib\\site-packages\\selenium\\webdriver\\remote\\webdriver.py\u001b[0m in \u001b[0;36mexecute\u001b[1;34m(self, driver_command, params)\u001b[0m\n\u001b[0;32m    428\u001b[0m         \u001b[0mresponse\u001b[0m \u001b[1;33m=\u001b[0m \u001b[0mself\u001b[0m\u001b[1;33m.\u001b[0m\u001b[0mcommand_executor\u001b[0m\u001b[1;33m.\u001b[0m\u001b[0mexecute\u001b[0m\u001b[1;33m(\u001b[0m\u001b[0mdriver_command\u001b[0m\u001b[1;33m,\u001b[0m \u001b[0mparams\u001b[0m\u001b[1;33m)\u001b[0m\u001b[1;33m\u001b[0m\u001b[1;33m\u001b[0m\u001b[0m\n\u001b[0;32m    429\u001b[0m         \u001b[1;32mif\u001b[0m \u001b[0mresponse\u001b[0m\u001b[1;33m:\u001b[0m\u001b[1;33m\u001b[0m\u001b[1;33m\u001b[0m\u001b[0m\n\u001b[1;32m--> 430\u001b[1;33m             \u001b[0mself\u001b[0m\u001b[1;33m.\u001b[0m\u001b[0merror_handler\u001b[0m\u001b[1;33m.\u001b[0m\u001b[0mcheck_response\u001b[0m\u001b[1;33m(\u001b[0m\u001b[0mresponse\u001b[0m\u001b[1;33m)\u001b[0m\u001b[1;33m\u001b[0m\u001b[1;33m\u001b[0m\u001b[0m\n\u001b[0m\u001b[0;32m    431\u001b[0m             response['value'] = self._unwrap_value(\n\u001b[0;32m    432\u001b[0m                 response.get('value', None))\n",
      "\u001b[1;32m~\\anaconda3\\lib\\site-packages\\selenium\\webdriver\\remote\\errorhandler.py\u001b[0m in \u001b[0;36mcheck_response\u001b[1;34m(self, response)\u001b[0m\n\u001b[0;32m    245\u001b[0m                 \u001b[0malert_text\u001b[0m \u001b[1;33m=\u001b[0m \u001b[0mvalue\u001b[0m\u001b[1;33m[\u001b[0m\u001b[1;34m'alert'\u001b[0m\u001b[1;33m]\u001b[0m\u001b[1;33m.\u001b[0m\u001b[0mget\u001b[0m\u001b[1;33m(\u001b[0m\u001b[1;34m'text'\u001b[0m\u001b[1;33m)\u001b[0m\u001b[1;33m\u001b[0m\u001b[1;33m\u001b[0m\u001b[0m\n\u001b[0;32m    246\u001b[0m             \u001b[1;32mraise\u001b[0m \u001b[0mexception_class\u001b[0m\u001b[1;33m(\u001b[0m\u001b[0mmessage\u001b[0m\u001b[1;33m,\u001b[0m \u001b[0mscreen\u001b[0m\u001b[1;33m,\u001b[0m \u001b[0mstacktrace\u001b[0m\u001b[1;33m,\u001b[0m \u001b[0malert_text\u001b[0m\u001b[1;33m)\u001b[0m  \u001b[1;31m# type: ignore[call-arg]  # mypy is not smart enough here\u001b[0m\u001b[1;33m\u001b[0m\u001b[1;33m\u001b[0m\u001b[0m\n\u001b[1;32m--> 247\u001b[1;33m         \u001b[1;32mraise\u001b[0m \u001b[0mexception_class\u001b[0m\u001b[1;33m(\u001b[0m\u001b[0mmessage\u001b[0m\u001b[1;33m,\u001b[0m \u001b[0mscreen\u001b[0m\u001b[1;33m,\u001b[0m \u001b[0mstacktrace\u001b[0m\u001b[1;33m)\u001b[0m\u001b[1;33m\u001b[0m\u001b[1;33m\u001b[0m\u001b[0m\n\u001b[0m\u001b[0;32m    248\u001b[0m \u001b[1;33m\u001b[0m\u001b[0m\n\u001b[0;32m    249\u001b[0m     \u001b[1;32mdef\u001b[0m \u001b[0m_value_or_default\u001b[0m\u001b[1;33m(\u001b[0m\u001b[0mself\u001b[0m\u001b[1;33m,\u001b[0m \u001b[0mobj\u001b[0m\u001b[1;33m:\u001b[0m \u001b[0mMapping\u001b[0m\u001b[1;33m[\u001b[0m\u001b[0m_KT\u001b[0m\u001b[1;33m,\u001b[0m \u001b[0m_VT\u001b[0m\u001b[1;33m]\u001b[0m\u001b[1;33m,\u001b[0m \u001b[0mkey\u001b[0m\u001b[1;33m:\u001b[0m \u001b[0m_KT\u001b[0m\u001b[1;33m,\u001b[0m \u001b[0mdefault\u001b[0m\u001b[1;33m:\u001b[0m \u001b[0m_VT\u001b[0m\u001b[1;33m)\u001b[0m \u001b[1;33m->\u001b[0m \u001b[0m_VT\u001b[0m\u001b[1;33m:\u001b[0m\u001b[1;33m\u001b[0m\u001b[1;33m\u001b[0m\u001b[0m\n",
      "\u001b[1;31mTimeoutException\u001b[0m: Message: timeout: Timed out receiving message from renderer: 600.000\n  (Session info: chrome=108.0.5359.125)\nStacktrace:\nBacktrace:\n\t(No symbol) [0x0115F243]\n\t(No symbol) [0x010E7FD1]\n\t(No symbol) [0x00FDD04D]\n\t(No symbol) [0x00FCFC24]\n\t(No symbol) [0x00FCFA5C]\n\t(No symbol) [0x00FCE7E8]\n\t(No symbol) [0x00FCEDC2]\n\t(No symbol) [0x00FCDC55]\n\t(No symbol) [0x00FD899C]\n\t(No symbol) [0x00FCD735]\n\t(No symbol) [0x00FCF703]\n\t(No symbol) [0x00FCE7E8]\n\t(No symbol) [0x00FCEDC2]\n\t(No symbol) [0x00FCDC55]\n\t(No symbol) [0x00FD6493]\n\t(No symbol) [0x00FCD735]\n\t(No symbol) [0x00FCF703]\n\t(No symbol) [0x00FCE7E8]\n\t(No symbol) [0x00FCEDC2]\n\t(No symbol) [0x00FCDC55]\n\t(No symbol) [0x00FD4072]\n\t(No symbol) [0x00FCD735]\n\t(No symbol) [0x00FCF703]\n\t(No symbol) [0x00FCE7E8]\n\t(No symbol) [0x00FCEDC2]\n\t(No symbol) [0x00FCDC55]\n\t(No symbol) [0x00FC7E66]\n\t(No symbol) [0x00FCD735]\n\t(No symbol) [0x00FCCEE0]\n\t(No symbol) [0x00FCCFD5]\n\t(No symbol) [0x00FCD388]\n\t(No symbol) [0x00FCD1F8]\n\t(No symbol) [0x00FDE5C3]\n\t(No symbol) [0x0103C1D8]\n\t(No symbol) [0x01028386]\n\t(No symbol) [0x0100163C]\n\t(No symbol) [0x0100269D]\n\tGetHandleVerifier [0x013F9A22+2655074]\n\tGetHandleVerifier [0x013ECA24+2601828]\n\tGetHandleVerifier [0x01208C0A+619850]\n\tGetHandleVerifier [0x01207830+614768]\n\t(No symbol) [0x010F05FC]\n\t(No symbol) [0x010F5968]\n\t(No symbol) [0x010F5A55]\n\t(No symbol) [0x0110051B]\n\tBaseThreadInitThunk [0x7692FEF9+25]\n\tRtlGetAppContainerNamedObjectPath [0x777E7BBE+286]\n\tRtlGetAppContainerNamedObjectPath [0x777E7B8E+238]\n"
     ]
    }
   ],
   "source": [
    "box_id = browser.find_element(by = By.XPATH, value = '//*[@id=\"tablebox2\"]')\n",
    "print(box_id.text)"
   ]
  },
  {
   "cell_type": "code",
   "execution_count": null,
   "id": "64f6a05f",
   "metadata": {},
   "outputs": [],
   "source": []
  }
 ],
 "metadata": {
  "kernelspec": {
   "display_name": "Python 3 (ipykernel)",
   "language": "python",
   "name": "python3"
  },
  "language_info": {
   "codemirror_mode": {
    "name": "ipython",
    "version": 3
   },
   "file_extension": ".py",
   "mimetype": "text/x-python",
   "name": "python",
   "nbconvert_exporter": "python",
   "pygments_lexer": "ipython3",
   "version": "3.9.7"
  }
 },
 "nbformat": 4,
 "nbformat_minor": 5
}
