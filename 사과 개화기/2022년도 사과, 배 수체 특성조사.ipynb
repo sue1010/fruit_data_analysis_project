{
 "cells": [
  {
   "cell_type": "code",
   "execution_count": 1,
   "id": "b6892f38",
   "metadata": {},
   "outputs": [],
   "source": [
    "import pandas as pd\n",
    "import numpy as np"
   ]
  },
  {
   "cell_type": "code",
   "execution_count": 2,
   "id": "072cf99a",
   "metadata": {},
   "outputs": [
    {
     "data": {
      "text/html": [
       "<div>\n",
       "<style scoped>\n",
       "    .dataframe tbody tr th:only-of-type {\n",
       "        vertical-align: middle;\n",
       "    }\n",
       "\n",
       "    .dataframe tbody tr th {\n",
       "        vertical-align: top;\n",
       "    }\n",
       "\n",
       "    .dataframe thead th {\n",
       "        text-align: right;\n",
       "    }\n",
       "</style>\n",
       "<table border=\"1\" class=\"dataframe\">\n",
       "  <thead>\n",
       "    <tr style=\"text-align: right;\">\n",
       "      <th></th>\n",
       "      <th>사과</th>\n",
       "      <th>Unnamed: 1</th>\n",
       "      <th>Unnamed: 2</th>\n",
       "      <th>Unnamed: 3</th>\n",
       "      <th>Unnamed: 4</th>\n",
       "      <th>Unnamed: 5</th>\n",
       "      <th>Unnamed: 6</th>\n",
       "      <th>Unnamed: 7</th>\n",
       "      <th>Unnamed: 8</th>\n",
       "      <th>Unnamed: 9</th>\n",
       "      <th>...</th>\n",
       "      <th>Unnamed: 15</th>\n",
       "      <th>Unnamed: 16</th>\n",
       "      <th>Unnamed: 17</th>\n",
       "      <th>Unnamed: 18</th>\n",
       "      <th>Unnamed: 19</th>\n",
       "      <th>Unnamed: 20</th>\n",
       "      <th>Unnamed: 21</th>\n",
       "      <th>Unnamed: 22</th>\n",
       "      <th>Unnamed: 23</th>\n",
       "      <th>Unnamed: 24</th>\n",
       "    </tr>\n",
       "  </thead>\n",
       "  <tbody>\n",
       "    <tr>\n",
       "      <th>0</th>\n",
       "      <td>NaN</td>\n",
       "      <td>1차 (5/23)</td>\n",
       "      <td>NaN</td>\n",
       "      <td>2차(6/3)</td>\n",
       "      <td>3차(6/17)</td>\n",
       "      <td>4차(7/4)</td>\n",
       "      <td>5차(7/19)</td>\n",
       "      <td>6차(7/28)</td>\n",
       "      <td>7차(8/18)</td>\n",
       "      <td>8차(8/25)</td>\n",
       "      <td>...</td>\n",
       "      <td>NaN</td>\n",
       "      <td>2차(6/3)</td>\n",
       "      <td>3차(6/17)</td>\n",
       "      <td>4차(7/4)</td>\n",
       "      <td>5차(7/19)</td>\n",
       "      <td>6차(7/28)</td>\n",
       "      <td>7차(8/18)</td>\n",
       "      <td>8차(8/25)</td>\n",
       "      <td>9차(9/7)</td>\n",
       "      <td>10차(9/21)</td>\n",
       "    </tr>\n",
       "    <tr>\n",
       "      <th>1</th>\n",
       "      <td>고농도</td>\n",
       "      <td>48.24</td>\n",
       "      <td>고농도</td>\n",
       "      <td>47.73</td>\n",
       "      <td>50.16</td>\n",
       "      <td>48.88</td>\n",
       "      <td>66.95</td>\n",
       "      <td>66.70</td>\n",
       "      <td>63.17</td>\n",
       "      <td>64.51</td>\n",
       "      <td>...</td>\n",
       "      <td>고농도</td>\n",
       "      <td>48.51</td>\n",
       "      <td>48.89</td>\n",
       "      <td>47.15</td>\n",
       "      <td>66.73</td>\n",
       "      <td>62.64</td>\n",
       "      <td>63.99</td>\n",
       "      <td>65.78</td>\n",
       "      <td>67.19</td>\n",
       "      <td>67.50</td>\n",
       "    </tr>\n",
       "    <tr>\n",
       "      <th>2</th>\n",
       "      <td>고농도</td>\n",
       "      <td>48.58</td>\n",
       "      <td>고농도</td>\n",
       "      <td>47.45</td>\n",
       "      <td>48.72</td>\n",
       "      <td>49.78</td>\n",
       "      <td>67.71</td>\n",
       "      <td>67.14</td>\n",
       "      <td>63.34</td>\n",
       "      <td>65.04</td>\n",
       "      <td>...</td>\n",
       "      <td>고농도</td>\n",
       "      <td>49.00</td>\n",
       "      <td>49.64</td>\n",
       "      <td>46.46</td>\n",
       "      <td>67.14</td>\n",
       "      <td>62.59</td>\n",
       "      <td>65.24</td>\n",
       "      <td>65.38</td>\n",
       "      <td>66.68</td>\n",
       "      <td>67.33</td>\n",
       "    </tr>\n",
       "    <tr>\n",
       "      <th>3</th>\n",
       "      <td>고농도</td>\n",
       "      <td>49.09</td>\n",
       "      <td>고농도</td>\n",
       "      <td>47.55</td>\n",
       "      <td>49.40</td>\n",
       "      <td>49.65</td>\n",
       "      <td>67.44</td>\n",
       "      <td>66.54</td>\n",
       "      <td>64.09</td>\n",
       "      <td>65.26</td>\n",
       "      <td>...</td>\n",
       "      <td>고농도</td>\n",
       "      <td>49.02</td>\n",
       "      <td>50.07</td>\n",
       "      <td>47.44</td>\n",
       "      <td>67.19</td>\n",
       "      <td>60.99</td>\n",
       "      <td>65.77</td>\n",
       "      <td>65.93</td>\n",
       "      <td>68.16</td>\n",
       "      <td>66.43</td>\n",
       "    </tr>\n",
       "    <tr>\n",
       "      <th>4</th>\n",
       "      <td>고농도</td>\n",
       "      <td>48.57</td>\n",
       "      <td>고농도</td>\n",
       "      <td>48.54</td>\n",
       "      <td>48.46</td>\n",
       "      <td>49.50</td>\n",
       "      <td>66.89</td>\n",
       "      <td>67.84</td>\n",
       "      <td>62.36</td>\n",
       "      <td>65.77</td>\n",
       "      <td>...</td>\n",
       "      <td>고농도</td>\n",
       "      <td>47.29</td>\n",
       "      <td>48.67</td>\n",
       "      <td>46.68</td>\n",
       "      <td>67.79</td>\n",
       "      <td>NaN</td>\n",
       "      <td>66.44</td>\n",
       "      <td>65.43</td>\n",
       "      <td>67.71</td>\n",
       "      <td>67.60</td>\n",
       "    </tr>\n",
       "    <tr>\n",
       "      <th>...</th>\n",
       "      <td>...</td>\n",
       "      <td>...</td>\n",
       "      <td>...</td>\n",
       "      <td>...</td>\n",
       "      <td>...</td>\n",
       "      <td>...</td>\n",
       "      <td>...</td>\n",
       "      <td>...</td>\n",
       "      <td>...</td>\n",
       "      <td>...</td>\n",
       "      <td>...</td>\n",
       "      <td>...</td>\n",
       "      <td>...</td>\n",
       "      <td>...</td>\n",
       "      <td>...</td>\n",
       "      <td>...</td>\n",
       "      <td>...</td>\n",
       "      <td>...</td>\n",
       "      <td>...</td>\n",
       "      <td>...</td>\n",
       "      <td>...</td>\n",
       "    </tr>\n",
       "    <tr>\n",
       "      <th>59</th>\n",
       "      <td>NaN</td>\n",
       "      <td>NaN</td>\n",
       "      <td>무처리</td>\n",
       "      <td>49.14</td>\n",
       "      <td>48.21</td>\n",
       "      <td>46.77</td>\n",
       "      <td>67.17</td>\n",
       "      <td>62.34</td>\n",
       "      <td>66.16</td>\n",
       "      <td>64.31</td>\n",
       "      <td>...</td>\n",
       "      <td>NaN</td>\n",
       "      <td>NaN</td>\n",
       "      <td>NaN</td>\n",
       "      <td>NaN</td>\n",
       "      <td>NaN</td>\n",
       "      <td>NaN</td>\n",
       "      <td>NaN</td>\n",
       "      <td>NaN</td>\n",
       "      <td>NaN</td>\n",
       "      <td>NaN</td>\n",
       "    </tr>\n",
       "    <tr>\n",
       "      <th>60</th>\n",
       "      <td>NaN</td>\n",
       "      <td>NaN</td>\n",
       "      <td>무처리</td>\n",
       "      <td>49.33</td>\n",
       "      <td>43.40</td>\n",
       "      <td>47.82</td>\n",
       "      <td>66.91</td>\n",
       "      <td>63.97</td>\n",
       "      <td>66.17</td>\n",
       "      <td>64.06</td>\n",
       "      <td>...</td>\n",
       "      <td>NaN</td>\n",
       "      <td>NaN</td>\n",
       "      <td>NaN</td>\n",
       "      <td>NaN</td>\n",
       "      <td>NaN</td>\n",
       "      <td>NaN</td>\n",
       "      <td>NaN</td>\n",
       "      <td>NaN</td>\n",
       "      <td>NaN</td>\n",
       "      <td>NaN</td>\n",
       "    </tr>\n",
       "    <tr>\n",
       "      <th>61</th>\n",
       "      <td>NaN</td>\n",
       "      <td>NaN</td>\n",
       "      <td>무처리</td>\n",
       "      <td>46.65</td>\n",
       "      <td>49.79</td>\n",
       "      <td>48.01</td>\n",
       "      <td>69.39</td>\n",
       "      <td>2.36</td>\n",
       "      <td>64.51</td>\n",
       "      <td>66.70</td>\n",
       "      <td>...</td>\n",
       "      <td>NaN</td>\n",
       "      <td>NaN</td>\n",
       "      <td>NaN</td>\n",
       "      <td>NaN</td>\n",
       "      <td>NaN</td>\n",
       "      <td>NaN</td>\n",
       "      <td>NaN</td>\n",
       "      <td>NaN</td>\n",
       "      <td>NaN</td>\n",
       "      <td>NaN</td>\n",
       "    </tr>\n",
       "    <tr>\n",
       "      <th>62</th>\n",
       "      <td>NaN</td>\n",
       "      <td>NaN</td>\n",
       "      <td>무처리</td>\n",
       "      <td>47.81</td>\n",
       "      <td>50.01</td>\n",
       "      <td>47.68</td>\n",
       "      <td>69.08</td>\n",
       "      <td>2.36</td>\n",
       "      <td>64.58</td>\n",
       "      <td>66.22</td>\n",
       "      <td>...</td>\n",
       "      <td>NaN</td>\n",
       "      <td>NaN</td>\n",
       "      <td>NaN</td>\n",
       "      <td>NaN</td>\n",
       "      <td>NaN</td>\n",
       "      <td>NaN</td>\n",
       "      <td>NaN</td>\n",
       "      <td>NaN</td>\n",
       "      <td>NaN</td>\n",
       "      <td>NaN</td>\n",
       "    </tr>\n",
       "    <tr>\n",
       "      <th>63</th>\n",
       "      <td>NaN</td>\n",
       "      <td>NaN</td>\n",
       "      <td>무처리</td>\n",
       "      <td>45.76</td>\n",
       "      <td>49.59</td>\n",
       "      <td>48.23</td>\n",
       "      <td>70.27</td>\n",
       "      <td>2.39</td>\n",
       "      <td>65.22</td>\n",
       "      <td>65.69</td>\n",
       "      <td>...</td>\n",
       "      <td>NaN</td>\n",
       "      <td>NaN</td>\n",
       "      <td>NaN</td>\n",
       "      <td>NaN</td>\n",
       "      <td>NaN</td>\n",
       "      <td>NaN</td>\n",
       "      <td>NaN</td>\n",
       "      <td>NaN</td>\n",
       "      <td>NaN</td>\n",
       "      <td>NaN</td>\n",
       "    </tr>\n",
       "  </tbody>\n",
       "</table>\n",
       "<p>64 rows × 25 columns</p>\n",
       "</div>"
      ],
      "text/plain": [
       "     사과 Unnamed: 1 Unnamed: 2 Unnamed: 3 Unnamed: 4 Unnamed: 5 Unnamed: 6  \\\n",
       "0   NaN  1차 (5/23)        NaN    2차(6/3)   3차(6/17)    4차(7/4)   5차(7/19)   \n",
       "1   고농도      48.24        고농도      47.73      50.16      48.88      66.95   \n",
       "2   고농도      48.58        고농도      47.45      48.72      49.78      67.71   \n",
       "3   고농도      49.09        고농도      47.55      49.40      49.65      67.44   \n",
       "4   고농도      48.57        고농도      48.54      48.46      49.50      66.89   \n",
       "..  ...        ...        ...        ...        ...        ...        ...   \n",
       "59  NaN        NaN        무처리      49.14      48.21      46.77      67.17   \n",
       "60  NaN        NaN        무처리      49.33      43.40      47.82      66.91   \n",
       "61  NaN        NaN        무처리      46.65      49.79      48.01      69.39   \n",
       "62  NaN        NaN        무처리      47.81      50.01      47.68      69.08   \n",
       "63  NaN        NaN        무처리      45.76      49.59      48.23      70.27   \n",
       "\n",
       "   Unnamed: 7 Unnamed: 8 Unnamed: 9  ... Unnamed: 15 Unnamed: 16  Unnamed: 17  \\\n",
       "0    6차(7/28)   7차(8/18)   8차(8/25)  ...         NaN     2차(6/3)     3차(6/17)   \n",
       "1       66.70      63.17      64.51  ...         고농도       48.51        48.89   \n",
       "2       67.14      63.34      65.04  ...         고농도       49.00        49.64   \n",
       "3       66.54      64.09      65.26  ...         고농도       49.02        50.07   \n",
       "4       67.84      62.36      65.77  ...         고농도       47.29        48.67   \n",
       "..        ...        ...        ...  ...         ...         ...          ...   \n",
       "59      62.34      66.16      64.31  ...         NaN         NaN          NaN   \n",
       "60      63.97      66.17      64.06  ...         NaN         NaN          NaN   \n",
       "61       2.36      64.51      66.70  ...         NaN         NaN          NaN   \n",
       "62       2.36      64.58      66.22  ...         NaN         NaN          NaN   \n",
       "63       2.39      65.22      65.69  ...         NaN         NaN          NaN   \n",
       "\n",
       "   Unnamed: 18 Unnamed: 19 Unnamed: 20 Unnamed: 21 Unnamed: 22 Unnamed: 23  \\\n",
       "0      4차(7/4)    5차(7/19)    6차(7/28)    7차(8/18)    8차(8/25)     9차(9/7)   \n",
       "1        47.15       66.73       62.64       63.99       65.78       67.19   \n",
       "2        46.46       67.14       62.59       65.24       65.38       66.68   \n",
       "3        47.44       67.19       60.99       65.77       65.93       68.16   \n",
       "4        46.68       67.79         NaN       66.44       65.43       67.71   \n",
       "..         ...         ...         ...         ...         ...         ...   \n",
       "59         NaN         NaN         NaN         NaN         NaN         NaN   \n",
       "60         NaN         NaN         NaN         NaN         NaN         NaN   \n",
       "61         NaN         NaN         NaN         NaN         NaN         NaN   \n",
       "62         NaN         NaN         NaN         NaN         NaN         NaN   \n",
       "63         NaN         NaN         NaN         NaN         NaN         NaN   \n",
       "\n",
       "   Unnamed: 24  \n",
       "0    10차(9/21)  \n",
       "1        67.50  \n",
       "2        67.33  \n",
       "3        66.43  \n",
       "4        67.60  \n",
       "..         ...  \n",
       "59         NaN  \n",
       "60         NaN  \n",
       "61         NaN  \n",
       "62         NaN  \n",
       "63         NaN  \n",
       "\n",
       "[64 rows x 25 columns]"
      ]
     },
     "execution_count": 2,
     "metadata": {},
     "output_type": "execute_result"
    }
   ],
   "source": [
    "search = pd.read_csv('C:\\\\Users\\\\image2\\\\Desktop\\\\2022년도 사과, 배 수체 조사\\\\5-1포장 데이터 정리.csv', encoding = 'CP949')\n",
    "search"
   ]
  },
  {
   "cell_type": "code",
   "execution_count": 3,
   "id": "e9911022",
   "metadata": {},
   "outputs": [
    {
     "data": {
      "text/plain": [
       "Index(['사과', 'Unnamed: 1', 'Unnamed: 2', 'Unnamed: 3', 'Unnamed: 4',\n",
       "       'Unnamed: 5', 'Unnamed: 6', 'Unnamed: 7', 'Unnamed: 8', 'Unnamed: 9',\n",
       "       'Unnamed: 10', 'Unnamed: 11', 'Unnamed: 12', '배', 'Unnamed: 14',\n",
       "       'Unnamed: 15', 'Unnamed: 16', 'Unnamed: 17', 'Unnamed: 18',\n",
       "       'Unnamed: 19', 'Unnamed: 20', 'Unnamed: 21', 'Unnamed: 22',\n",
       "       'Unnamed: 23', 'Unnamed: 24'],\n",
       "      dtype='object')"
      ]
     },
     "execution_count": 3,
     "metadata": {},
     "output_type": "execute_result"
    }
   ],
   "source": [
    "search.columns"
   ]
  },
  {
   "cell_type": "code",
   "execution_count": 4,
   "id": "4626177a",
   "metadata": {},
   "outputs": [
    {
     "data": {
      "text/plain": [
       "사과               고농도\n",
       "Unnamed: 1     48.24\n",
       "Unnamed: 2       고농도\n",
       "Unnamed: 3     47.73\n",
       "Unnamed: 4     50.16\n",
       "Unnamed: 5     48.88\n",
       "Unnamed: 6     66.95\n",
       "Unnamed: 7     66.70\n",
       "Unnamed: 8     63.17\n",
       "Unnamed: 9     64.51\n",
       "Unnamed: 10    67.02\n",
       "Unnamed: 11    66.83\n",
       "Unnamed: 12      NaN\n",
       "배                고농도\n",
       "Unnamed: 14    45.26\n",
       "Unnamed: 15      고농도\n",
       "Unnamed: 16    48.51\n",
       "Unnamed: 17    48.89\n",
       "Unnamed: 18    47.15\n",
       "Unnamed: 19    66.73\n",
       "Unnamed: 20    62.64\n",
       "Unnamed: 21    63.99\n",
       "Unnamed: 22    65.78\n",
       "Unnamed: 23    67.19\n",
       "Unnamed: 24    67.50\n",
       "Name: 1, dtype: object"
      ]
     },
     "execution_count": 4,
     "metadata": {},
     "output_type": "execute_result"
    }
   ],
   "source": [
    "re_columns = search.loc[1][:]\n",
    "re_columns"
   ]
  },
  {
   "cell_type": "code",
   "execution_count": 5,
   "id": "cf5fd92a",
   "metadata": {},
   "outputs": [
    {
     "data": {
      "text/plain": [
       "'Unnamed: 1'"
      ]
     },
     "execution_count": 5,
     "metadata": {},
     "output_type": "execute_result"
    }
   ],
   "source": [
    "search.columns[1]"
   ]
  },
  {
   "cell_type": "code",
   "execution_count": 6,
   "id": "1518d7a7",
   "metadata": {},
   "outputs": [],
   "source": [
    "mean_sum = []"
   ]
  },
  {
   "cell_type": "code",
   "execution_count": 7,
   "id": "cec631e5",
   "metadata": {},
   "outputs": [
    {
     "data": {
      "text/plain": [
       "0     1차 (5/23)\n",
       "1         48.24\n",
       "2         48.58\n",
       "3         49.09\n",
       "4         48.57\n",
       "        ...    \n",
       "59          NaN\n",
       "60          NaN\n",
       "61          NaN\n",
       "62          NaN\n",
       "63          NaN\n",
       "Name: Unnamed: 1, Length: 64, dtype: object"
      ]
     },
     "execution_count": 7,
     "metadata": {},
     "output_type": "execute_result"
    }
   ],
   "source": [
    "search['Unnamed: 1']"
   ]
  },
  {
   "cell_type": "code",
   "execution_count": 8,
   "id": "09fe6195",
   "metadata": {},
   "outputs": [
    {
     "data": {
      "text/plain": [
       "사과                   NaN\n",
       "Unnamed: 1     1차 (5/23)\n",
       "Unnamed: 2           NaN\n",
       "Unnamed: 3       2차(6/3)\n",
       "Unnamed: 4      3차(6/17)\n",
       "Unnamed: 5       4차(7/4)\n",
       "Unnamed: 6      5차(7/19)\n",
       "Unnamed: 7      6차(7/28)\n",
       "Unnamed: 8      7차(8/18)\n",
       "Unnamed: 9      8차(8/25)\n",
       "Unnamed: 10      9차(9/7)\n",
       "Unnamed: 11    10차(9/21)\n",
       "Unnamed: 12          NaN\n",
       "배                    NaN\n",
       "Unnamed: 14    1차 (5/23)\n",
       "Unnamed: 15          NaN\n",
       "Unnamed: 16      2차(6/3)\n",
       "Unnamed: 17     3차(6/17)\n",
       "Unnamed: 18      4차(7/4)\n",
       "Unnamed: 19     5차(7/19)\n",
       "Unnamed: 20     6차(7/28)\n",
       "Unnamed: 21     7차(8/18)\n",
       "Unnamed: 22     8차(8/25)\n",
       "Unnamed: 23      9차(9/7)\n",
       "Unnamed: 24    10차(9/21)\n",
       "Name: 0, dtype: object"
      ]
     },
     "execution_count": 8,
     "metadata": {},
     "output_type": "execute_result"
    }
   ],
   "source": [
    "search.iloc[0]"
   ]
  },
  {
   "cell_type": "code",
   "execution_count": 42,
   "id": "8fa4cfab",
   "metadata": {},
   "outputs": [
    {
     "data": {
      "text/plain": [
       "0     1차 (5/23)\n",
       "1         48.24\n",
       "2         48.58\n",
       "3         49.09\n",
       "4         48.57\n",
       "        ...    \n",
       "59          NaN\n",
       "60          NaN\n",
       "61          NaN\n",
       "62          NaN\n",
       "63          NaN\n",
       "Name: Unnamed: 1, Length: 64, dtype: object"
      ]
     },
     "execution_count": 42,
     "metadata": {},
     "output_type": "execute_result"
    }
   ],
   "source": [
    "first = search.iloc[:,1]\n",
    "first"
   ]
  },
  {
   "cell_type": "code",
   "execution_count": 10,
   "id": "fdfd455b",
   "metadata": {},
   "outputs": [
    {
     "data": {
      "text/plain": [
       "1     48.24\n",
       "2     48.58\n",
       "3     49.09\n",
       "4     48.57\n",
       "5     48.14\n",
       "      ...  \n",
       "59      NaN\n",
       "60      NaN\n",
       "61      NaN\n",
       "62      NaN\n",
       "63      NaN\n",
       "Name: Unnamed: 1, Length: 63, dtype: object"
      ]
     },
     "execution_count": 10,
     "metadata": {},
     "output_type": "execute_result"
    }
   ],
   "source": [
    "first.drop(0, inplace = True)\n",
    "first"
   ]
  },
  {
   "cell_type": "code",
   "execution_count": 11,
   "id": "5eca60b5",
   "metadata": {},
   "outputs": [],
   "source": [
    "first.dropna(inplace = True)"
   ]
  },
  {
   "cell_type": "code",
   "execution_count": 12,
   "id": "af8a5965",
   "metadata": {
    "scrolled": true
   },
   "outputs": [
    {
     "data": {
      "text/plain": [
       "1     48.24\n",
       "2     48.58\n",
       "3     49.09\n",
       "4     48.57\n",
       "5     48.14\n",
       "6     47.95\n",
       "7     48.14\n",
       "8     47.24\n",
       "9     48.32\n",
       "10    47.29\n",
       "11    47.41\n",
       "12    47.66\n",
       "13    48.22\n",
       "14    46.88\n",
       "15    47.86\n",
       "16    48.69\n",
       "17    48.40\n",
       "18    48.57\n",
       "19    49.03\n",
       "20    49.01\n",
       "21    48.37\n",
       "22    48.90\n",
       "23    48.82\n",
       "24    48.69\n",
       "25    46.10\n",
       "26    46.92\n",
       "27    45.33\n",
       "28    47.12\n",
       "29    45.54\n",
       "30    45.74\n",
       "31    47.91\n",
       "32    49.21\n",
       "33    45.69\n",
       "34    47.02\n",
       "35    48.03\n",
       "36    47.42\n",
       "37    46.74\n",
       "38    47.49\n",
       "39    46.96\n",
       "40    45.94\n",
       "41    45.96\n",
       "42    47.01\n",
       "43    48.61\n",
       "44    46.86\n",
       "45    47.47\n",
       "Name: Unnamed: 1, dtype: object"
      ]
     },
     "execution_count": 12,
     "metadata": {},
     "output_type": "execute_result"
    }
   ],
   "source": [
    "first"
   ]
  },
  {
   "cell_type": "code",
   "execution_count": 13,
   "id": "e00c2711",
   "metadata": {},
   "outputs": [
    {
     "data": {
      "text/plain": [
       "47.62533333333333"
      ]
     },
     "execution_count": 13,
     "metadata": {},
     "output_type": "execute_result"
    }
   ],
   "source": [
    "## 1사과 - 1차 평균\n",
    "first = np.array(first)\n",
    "mean_sum.append(first.astype('float').mean())\n",
    "first.astype('float').mean()"
   ]
  },
  {
   "cell_type": "code",
   "execution_count": 14,
   "id": "09322839",
   "metadata": {},
   "outputs": [
    {
     "data": {
      "text/plain": [
       "0     2차(6/3)\n",
       "1       47.73\n",
       "2       47.45\n",
       "3       47.55\n",
       "4       48.54\n",
       "       ...   \n",
       "59      49.14\n",
       "60      49.33\n",
       "61      46.65\n",
       "62      47.81\n",
       "63      45.76\n",
       "Name: Unnamed: 3, Length: 64, dtype: object"
      ]
     },
     "execution_count": 14,
     "metadata": {},
     "output_type": "execute_result"
    }
   ],
   "source": [
    "search['Unnamed: 3']"
   ]
  },
  {
   "cell_type": "code",
   "execution_count": 15,
   "id": "784c8c15",
   "metadata": {},
   "outputs": [
    {
     "data": {
      "text/plain": [
       "1     47.73\n",
       "2     47.45\n",
       "3     47.55\n",
       "4     48.54\n",
       "5     48.41\n",
       "      ...  \n",
       "59    49.14\n",
       "60    49.33\n",
       "61    46.65\n",
       "62    47.81\n",
       "63    45.76\n",
       "Name: Unnamed: 3, Length: 63, dtype: object"
      ]
     },
     "execution_count": 15,
     "metadata": {},
     "output_type": "execute_result"
    }
   ],
   "source": [
    "second = search['Unnamed: 3']\n",
    "second.drop(0, inplace = True)\n",
    "second"
   ]
  },
  {
   "cell_type": "code",
   "execution_count": 16,
   "id": "8e1c09f6",
   "metadata": {},
   "outputs": [
    {
     "data": {
      "text/plain": [
       "48.580793650793666"
      ]
     },
     "execution_count": 16,
     "metadata": {},
     "output_type": "execute_result"
    }
   ],
   "source": [
    "## 사과 - 2차 평균\n",
    "np.array(second)\n",
    "mean_sum.append(second.astype('float').mean())\n",
    "second.astype('float').mean()"
   ]
  },
  {
   "cell_type": "code",
   "execution_count": 17,
   "id": "cccce5a3",
   "metadata": {},
   "outputs": [
    {
     "data": {
      "text/plain": [
       "1     50.16\n",
       "2     48.72\n",
       "3     49.40\n",
       "4     48.46\n",
       "5     49.12\n",
       "      ...  \n",
       "59    48.21\n",
       "60    43.40\n",
       "61    49.79\n",
       "62    50.01\n",
       "63    49.59\n",
       "Name: Unnamed: 4, Length: 63, dtype: object"
      ]
     },
     "execution_count": 17,
     "metadata": {},
     "output_type": "execute_result"
    }
   ],
   "source": [
    "## 사과 - 3차 평균\n",
    "third = search['Unnamed: 4']\n",
    "third.drop(0, inplace = True)\n",
    "third"
   ]
  },
  {
   "cell_type": "code",
   "execution_count": 18,
   "id": "32762a09",
   "metadata": {},
   "outputs": [
    {
     "data": {
      "text/plain": [
       "48.90793650793651"
      ]
     },
     "execution_count": 18,
     "metadata": {},
     "output_type": "execute_result"
    }
   ],
   "source": [
    "mean_sum.append(third.astype('float').mean())\n",
    "third.astype('float').mean()"
   ]
  },
  {
   "cell_type": "code",
   "execution_count": 19,
   "id": "2438cb9b",
   "metadata": {},
   "outputs": [
    {
     "data": {
      "text/plain": [
       "1     48.88\n",
       "2     49.78\n",
       "3     49.65\n",
       "4     49.50\n",
       "5     49.72\n",
       "      ...  \n",
       "59    46.77\n",
       "60    47.82\n",
       "61    48.01\n",
       "62    47.68\n",
       "63    48.23\n",
       "Name: Unnamed: 5, Length: 63, dtype: object"
      ]
     },
     "execution_count": 19,
     "metadata": {},
     "output_type": "execute_result"
    }
   ],
   "source": [
    "## 사과 - 4차 평균\n",
    "fourth = search['Unnamed: 5']\n",
    "fourth.drop(0, inplace = True)\n",
    "fourth"
   ]
  },
  {
   "cell_type": "code",
   "execution_count": 20,
   "id": "0f6566c0",
   "metadata": {},
   "outputs": [
    {
     "data": {
      "text/plain": [
       "48.8868253968254"
      ]
     },
     "execution_count": 20,
     "metadata": {},
     "output_type": "execute_result"
    }
   ],
   "source": [
    "mean_sum.append(fourth.astype('float').mean())\n",
    "fourth.astype('float').mean()"
   ]
  },
  {
   "cell_type": "code",
   "execution_count": 21,
   "id": "9e89c39b",
   "metadata": {},
   "outputs": [
    {
     "data": {
      "text/plain": [
       "1     66.95\n",
       "2     67.71\n",
       "3     67.44\n",
       "4     66.89\n",
       "5     66.68\n",
       "      ...  \n",
       "59    67.17\n",
       "60    66.91\n",
       "61    69.39\n",
       "62    69.08\n",
       "63    70.27\n",
       "Name: Unnamed: 6, Length: 63, dtype: object"
      ]
     },
     "execution_count": 21,
     "metadata": {},
     "output_type": "execute_result"
    }
   ],
   "source": [
    "## 사과 - 5차 평균\n",
    "fifth = search['Unnamed: 6']\n",
    "fifth.drop(0, inplace = True)\n",
    "fifth"
   ]
  },
  {
   "cell_type": "code",
   "execution_count": 22,
   "id": "2b26395a",
   "metadata": {},
   "outputs": [
    {
     "data": {
      "text/plain": [
       "67.27984126984126"
      ]
     },
     "execution_count": 22,
     "metadata": {},
     "output_type": "execute_result"
    }
   ],
   "source": [
    "mean_sum.append(fifth.astype('float').mean())\n",
    "fifth.astype('float').mean()"
   ]
  },
  {
   "cell_type": "code",
   "execution_count": 23,
   "id": "4a8adbec",
   "metadata": {},
   "outputs": [
    {
     "data": {
      "text/plain": [
       "1     66.70\n",
       "2     67.14\n",
       "3     66.54\n",
       "4     67.84\n",
       "5     68.34\n",
       "      ...  \n",
       "59    62.34\n",
       "60    63.97\n",
       "61     2.36\n",
       "62     2.36\n",
       "63     2.39\n",
       "Name: Unnamed: 7, Length: 63, dtype: object"
      ]
     },
     "execution_count": 23,
     "metadata": {},
     "output_type": "execute_result"
    }
   ],
   "source": [
    "## 사과 -  6차 평균\n",
    "sixth = search['Unnamed: 7']\n",
    "sixth.drop(0, inplace = True)\n",
    "sixth"
   ]
  },
  {
   "cell_type": "code",
   "execution_count": 24,
   "id": "98a3f998",
   "metadata": {},
   "outputs": [
    {
     "data": {
      "text/plain": [
       "64.26031746031745"
      ]
     },
     "execution_count": 24,
     "metadata": {},
     "output_type": "execute_result"
    }
   ],
   "source": [
    "mean_sum.append(sixth.astype('float').mean())\n",
    "sixth.astype('float').mean()"
   ]
  },
  {
   "cell_type": "code",
   "execution_count": 25,
   "id": "3dd8cb12",
   "metadata": {},
   "outputs": [
    {
     "data": {
      "text/plain": [
       "1     63.17\n",
       "2     63.34\n",
       "3     64.09\n",
       "4     62.36\n",
       "5     62.86\n",
       "      ...  \n",
       "59    66.16\n",
       "60    66.17\n",
       "61    64.51\n",
       "62    64.58\n",
       "63    65.22\n",
       "Name: Unnamed: 8, Length: 63, dtype: object"
      ]
     },
     "execution_count": 25,
     "metadata": {},
     "output_type": "execute_result"
    }
   ],
   "source": [
    "## 사과 - 7차 평균\n",
    "seventh = search['Unnamed: 8']\n",
    "seventh.drop(0, inplace = True)\n",
    "seventh"
   ]
  },
  {
   "cell_type": "code",
   "execution_count": 26,
   "id": "0a6325ec",
   "metadata": {},
   "outputs": [
    {
     "data": {
      "text/plain": [
       "64.22317460317461"
      ]
     },
     "execution_count": 26,
     "metadata": {},
     "output_type": "execute_result"
    }
   ],
   "source": [
    "mean_sum.append(seventh.astype('float').mean())\n",
    "seventh.astype('float').mean()"
   ]
  },
  {
   "cell_type": "code",
   "execution_count": 27,
   "id": "63a90ff9",
   "metadata": {},
   "outputs": [
    {
     "data": {
      "text/plain": [
       "1     64.51\n",
       "2     65.04\n",
       "3     65.26\n",
       "4     65.77\n",
       "5     66.18\n",
       "      ...  \n",
       "59    64.31\n",
       "60    64.06\n",
       "61    66.70\n",
       "62    66.22\n",
       "63    65.69\n",
       "Name: Unnamed: 9, Length: 63, dtype: object"
      ]
     },
     "execution_count": 27,
     "metadata": {},
     "output_type": "execute_result"
    }
   ],
   "source": [
    "## 사과 - 8차 평균\n",
    "eight = search['Unnamed: 9']\n",
    "eight.drop(0, inplace = True)\n",
    "eight"
   ]
  },
  {
   "cell_type": "code",
   "execution_count": 28,
   "id": "c6c9dedd",
   "metadata": {},
   "outputs": [
    {
     "data": {
      "text/plain": [
       "66.27206349206347"
      ]
     },
     "execution_count": 28,
     "metadata": {},
     "output_type": "execute_result"
    }
   ],
   "source": [
    "mean_sum.append(eight.astype('float').mean())\n",
    "eight.astype('float').mean()"
   ]
  },
  {
   "cell_type": "code",
   "execution_count": 29,
   "id": "0e1dafa1",
   "metadata": {},
   "outputs": [
    {
     "data": {
      "text/plain": [
       "1     67.02\n",
       "2     66.54\n",
       "3     67.05\n",
       "4     68.28\n",
       "5     67.86\n",
       "      ...  \n",
       "59    66.16\n",
       "60    67.42\n",
       "61    67.69\n",
       "62    66.31\n",
       "63    65.71\n",
       "Name: Unnamed: 10, Length: 63, dtype: object"
      ]
     },
     "execution_count": 29,
     "metadata": {},
     "output_type": "execute_result"
    }
   ],
   "source": [
    "nineth = search['Unnamed: 10']\n",
    "nineth.drop(0, inplace = True)\n",
    "nineth"
   ]
  },
  {
   "cell_type": "code",
   "execution_count": 30,
   "id": "83c790ad",
   "metadata": {},
   "outputs": [
    {
     "data": {
      "text/plain": [
       "66.27761904761905"
      ]
     },
     "execution_count": 30,
     "metadata": {},
     "output_type": "execute_result"
    }
   ],
   "source": [
    "mean_sum.append(nineth.astype('float').mean())\n",
    "nineth.astype('float').mean()"
   ]
  },
  {
   "cell_type": "code",
   "execution_count": 31,
   "id": "6a58f944",
   "metadata": {},
   "outputs": [
    {
     "data": {
      "text/plain": [
       "1     66.83\n",
       "2     66.63\n",
       "3     67.76\n",
       "4     66.79\n",
       "5     66.45\n",
       "      ...  \n",
       "59    66.96\n",
       "60    66.56\n",
       "61    67.04\n",
       "62    67.43\n",
       "63    67.77\n",
       "Name: Unnamed: 11, Length: 63, dtype: object"
      ]
     },
     "execution_count": 31,
     "metadata": {},
     "output_type": "execute_result"
    }
   ],
   "source": [
    "ten = search['Unnamed: 11']\n",
    "ten.drop(0, inplace = True)\n",
    "ten"
   ]
  },
  {
   "cell_type": "code",
   "execution_count": 32,
   "id": "3f469962",
   "metadata": {},
   "outputs": [
    {
     "data": {
      "text/plain": [
       "67.49015873015873"
      ]
     },
     "execution_count": 32,
     "metadata": {},
     "output_type": "execute_result"
    }
   ],
   "source": [
    "mean_sum.append(ten.astype('float').mean())\n",
    "ten.astype('float').mean()"
   ]
  },
  {
   "cell_type": "code",
   "execution_count": 33,
   "id": "4bf2eea8",
   "metadata": {},
   "outputs": [
    {
     "data": {
      "text/plain": [
       "58.98040634920635"
      ]
     },
     "execution_count": 33,
     "metadata": {},
     "output_type": "execute_result"
    }
   ],
   "source": [
    "np.array(mean_sum).mean()"
   ]
  },
  {
   "cell_type": "code",
   "execution_count": 34,
   "id": "60592a6e",
   "metadata": {},
   "outputs": [
    {
     "data": {
      "text/plain": [
       "[47.62533333333333,\n",
       " 48.580793650793666,\n",
       " 48.90793650793651,\n",
       " 48.8868253968254,\n",
       " 67.27984126984126,\n",
       " 64.26031746031745,\n",
       " 64.22317460317461,\n",
       " 66.27206349206347,\n",
       " 66.27761904761905,\n",
       " 67.49015873015873]"
      ]
     },
     "execution_count": 34,
     "metadata": {},
     "output_type": "execute_result"
    }
   ],
   "source": [
    "mean_sum"
   ]
  },
  {
   "cell_type": "code",
   "execution_count": 35,
   "id": "00f4ee50",
   "metadata": {},
   "outputs": [
    {
     "name": "stderr",
     "output_type": "stream",
     "text": [
      "C:\\Users\\image2\\anaconda3\\lib\\site-packages\\scipy\\__init__.py:146: UserWarning: A NumPy version >=1.16.5 and <1.23.0 is required for this version of SciPy (detected version 1.23.3\n",
      "  warnings.warn(f\"A NumPy version >={np_minversion} and <{np_maxversion}\"\n"
     ]
    },
    {
     "data": {
      "text/plain": [
       "10"
      ]
     },
     "execution_count": 35,
     "metadata": {},
     "output_type": "execute_result"
    }
   ],
   "source": [
    "import matplotlib.pyplot as plt\n",
    "import seaborn as sns\n",
    "%matplotlib inline\n",
    "\n",
    "import os\n",
    "if os.name == 'nt':\n",
    "    font_family = \"Malgun Gothic\"\n",
    "else:\n",
    "    font_family = \"AppleGothic\"\n",
    "    \n",
    "sns.set(font = font_family, rc = {\"axes.unicode_minus\" : False})\n",
    "len(mean_sum)"
   ]
  },
  {
   "cell_type": "code",
   "execution_count": 36,
   "id": "71a8e54f",
   "metadata": {},
   "outputs": [],
   "source": [
    "x = ['1차', '2차', '3차', '4차', '5차', '6차', '7차', '8차', '9차', '10차']\n",
    "y = mean_sum"
   ]
  },
  {
   "cell_type": "code",
   "execution_count": 37,
   "id": "b61c112e",
   "metadata": {},
   "outputs": [
    {
     "data": {
      "text/plain": [
       "[<matplotlib.lines.Line2D at 0x187ee31f250>]"
      ]
     },
     "execution_count": 37,
     "metadata": {},
     "output_type": "execute_result"
    },
    {
     "data": {
      "image/png": "[encoded data removed]",
      "text/plain": [
       "<Figure size 432x288 with 1 Axes>"
      ]
     },
     "metadata": {},
     "output_type": "display_data"
    }
   ],
   "source": [
    "plt.plot(x,y)"
   ]
  },
  {
   "cell_type": "code",
   "execution_count": 38,
   "id": "bcb38235",
   "metadata": {},
   "outputs": [
    {
     "data": {
      "text/html": [
       "<div>\n",
       "<style scoped>\n",
       "    .dataframe tbody tr th:only-of-type {\n",
       "        vertical-align: middle;\n",
       "    }\n",
       "\n",
       "    .dataframe tbody tr th {\n",
       "        vertical-align: top;\n",
       "    }\n",
       "\n",
       "    .dataframe thead th {\n",
       "        text-align: right;\n",
       "    }\n",
       "</style>\n",
       "<table border=\"1\" class=\"dataframe\">\n",
       "  <thead>\n",
       "    <tr style=\"text-align: right;\">\n",
       "      <th></th>\n",
       "      <th>NaN</th>\n",
       "      <th>1차 (5/23)</th>\n",
       "      <th>NaN</th>\n",
       "      <th>2차(6/3)</th>\n",
       "      <th>3차(6/17)</th>\n",
       "      <th>4차(7/4)</th>\n",
       "      <th>5차(7/19)</th>\n",
       "      <th>6차(7/28)</th>\n",
       "      <th>7차(8/18)</th>\n",
       "      <th>8차(8/25)</th>\n",
       "      <th>...</th>\n",
       "      <th>NaN</th>\n",
       "      <th>2차(6/3)</th>\n",
       "      <th>3차(6/17)</th>\n",
       "      <th>4차(7/4)</th>\n",
       "      <th>5차(7/19)</th>\n",
       "      <th>6차(7/28)</th>\n",
       "      <th>7차(8/18)</th>\n",
       "      <th>8차(8/25)</th>\n",
       "      <th>9차(9/7)</th>\n",
       "      <th>10차(9/21)</th>\n",
       "    </tr>\n",
       "  </thead>\n",
       "  <tbody>\n",
       "    <tr>\n",
       "      <th>1</th>\n",
       "      <td>고농도</td>\n",
       "      <td>48.24</td>\n",
       "      <td>고농도</td>\n",
       "      <td>47.73</td>\n",
       "      <td>50.16</td>\n",
       "      <td>48.88</td>\n",
       "      <td>66.95</td>\n",
       "      <td>66.70</td>\n",
       "      <td>63.17</td>\n",
       "      <td>64.51</td>\n",
       "      <td>...</td>\n",
       "      <td>고농도</td>\n",
       "      <td>48.51</td>\n",
       "      <td>48.89</td>\n",
       "      <td>47.15</td>\n",
       "      <td>66.73</td>\n",
       "      <td>62.64</td>\n",
       "      <td>63.99</td>\n",
       "      <td>65.78</td>\n",
       "      <td>67.19</td>\n",
       "      <td>67.50</td>\n",
       "    </tr>\n",
       "    <tr>\n",
       "      <th>2</th>\n",
       "      <td>고농도</td>\n",
       "      <td>48.58</td>\n",
       "      <td>고농도</td>\n",
       "      <td>47.45</td>\n",
       "      <td>48.72</td>\n",
       "      <td>49.78</td>\n",
       "      <td>67.71</td>\n",
       "      <td>67.14</td>\n",
       "      <td>63.34</td>\n",
       "      <td>65.04</td>\n",
       "      <td>...</td>\n",
       "      <td>고농도</td>\n",
       "      <td>49.00</td>\n",
       "      <td>49.64</td>\n",
       "      <td>46.46</td>\n",
       "      <td>67.14</td>\n",
       "      <td>62.59</td>\n",
       "      <td>65.24</td>\n",
       "      <td>65.38</td>\n",
       "      <td>66.68</td>\n",
       "      <td>67.33</td>\n",
       "    </tr>\n",
       "    <tr>\n",
       "      <th>3</th>\n",
       "      <td>고농도</td>\n",
       "      <td>49.09</td>\n",
       "      <td>고농도</td>\n",
       "      <td>47.55</td>\n",
       "      <td>49.40</td>\n",
       "      <td>49.65</td>\n",
       "      <td>67.44</td>\n",
       "      <td>66.54</td>\n",
       "      <td>64.09</td>\n",
       "      <td>65.26</td>\n",
       "      <td>...</td>\n",
       "      <td>고농도</td>\n",
       "      <td>49.02</td>\n",
       "      <td>50.07</td>\n",
       "      <td>47.44</td>\n",
       "      <td>67.19</td>\n",
       "      <td>60.99</td>\n",
       "      <td>65.77</td>\n",
       "      <td>65.93</td>\n",
       "      <td>68.16</td>\n",
       "      <td>66.43</td>\n",
       "    </tr>\n",
       "    <tr>\n",
       "      <th>4</th>\n",
       "      <td>고농도</td>\n",
       "      <td>48.57</td>\n",
       "      <td>고농도</td>\n",
       "      <td>48.54</td>\n",
       "      <td>48.46</td>\n",
       "      <td>49.50</td>\n",
       "      <td>66.89</td>\n",
       "      <td>67.84</td>\n",
       "      <td>62.36</td>\n",
       "      <td>65.77</td>\n",
       "      <td>...</td>\n",
       "      <td>고농도</td>\n",
       "      <td>47.29</td>\n",
       "      <td>48.67</td>\n",
       "      <td>46.68</td>\n",
       "      <td>67.79</td>\n",
       "      <td>NaN</td>\n",
       "      <td>66.44</td>\n",
       "      <td>65.43</td>\n",
       "      <td>67.71</td>\n",
       "      <td>67.60</td>\n",
       "    </tr>\n",
       "    <tr>\n",
       "      <th>5</th>\n",
       "      <td>고농도</td>\n",
       "      <td>48.14</td>\n",
       "      <td>고농도</td>\n",
       "      <td>48.41</td>\n",
       "      <td>49.12</td>\n",
       "      <td>49.72</td>\n",
       "      <td>66.68</td>\n",
       "      <td>68.34</td>\n",
       "      <td>62.86</td>\n",
       "      <td>66.18</td>\n",
       "      <td>...</td>\n",
       "      <td>고농도</td>\n",
       "      <td>48.37</td>\n",
       "      <td>48.85</td>\n",
       "      <td>46.75</td>\n",
       "      <td>66.41</td>\n",
       "      <td>NaN</td>\n",
       "      <td>65.49</td>\n",
       "      <td>65.73</td>\n",
       "      <td>66.73</td>\n",
       "      <td>67.26</td>\n",
       "    </tr>\n",
       "    <tr>\n",
       "      <th>...</th>\n",
       "      <td>...</td>\n",
       "      <td>...</td>\n",
       "      <td>...</td>\n",
       "      <td>...</td>\n",
       "      <td>...</td>\n",
       "      <td>...</td>\n",
       "      <td>...</td>\n",
       "      <td>...</td>\n",
       "      <td>...</td>\n",
       "      <td>...</td>\n",
       "      <td>...</td>\n",
       "      <td>...</td>\n",
       "      <td>...</td>\n",
       "      <td>...</td>\n",
       "      <td>...</td>\n",
       "      <td>...</td>\n",
       "      <td>...</td>\n",
       "      <td>...</td>\n",
       "      <td>...</td>\n",
       "      <td>...</td>\n",
       "      <td>...</td>\n",
       "    </tr>\n",
       "    <tr>\n",
       "      <th>59</th>\n",
       "      <td>NaN</td>\n",
       "      <td>NaN</td>\n",
       "      <td>무처리</td>\n",
       "      <td>49.14</td>\n",
       "      <td>48.21</td>\n",
       "      <td>46.77</td>\n",
       "      <td>67.17</td>\n",
       "      <td>62.34</td>\n",
       "      <td>66.16</td>\n",
       "      <td>64.31</td>\n",
       "      <td>...</td>\n",
       "      <td>NaN</td>\n",
       "      <td>NaN</td>\n",
       "      <td>NaN</td>\n",
       "      <td>NaN</td>\n",
       "      <td>NaN</td>\n",
       "      <td>NaN</td>\n",
       "      <td>NaN</td>\n",
       "      <td>NaN</td>\n",
       "      <td>NaN</td>\n",
       "      <td>NaN</td>\n",
       "    </tr>\n",
       "    <tr>\n",
       "      <th>60</th>\n",
       "      <td>NaN</td>\n",
       "      <td>NaN</td>\n",
       "      <td>무처리</td>\n",
       "      <td>49.33</td>\n",
       "      <td>43.40</td>\n",
       "      <td>47.82</td>\n",
       "      <td>66.91</td>\n",
       "      <td>63.97</td>\n",
       "      <td>66.17</td>\n",
       "      <td>64.06</td>\n",
       "      <td>...</td>\n",
       "      <td>NaN</td>\n",
       "      <td>NaN</td>\n",
       "      <td>NaN</td>\n",
       "      <td>NaN</td>\n",
       "      <td>NaN</td>\n",
       "      <td>NaN</td>\n",
       "      <td>NaN</td>\n",
       "      <td>NaN</td>\n",
       "      <td>NaN</td>\n",
       "      <td>NaN</td>\n",
       "    </tr>\n",
       "    <tr>\n",
       "      <th>61</th>\n",
       "      <td>NaN</td>\n",
       "      <td>NaN</td>\n",
       "      <td>무처리</td>\n",
       "      <td>46.65</td>\n",
       "      <td>49.79</td>\n",
       "      <td>48.01</td>\n",
       "      <td>69.39</td>\n",
       "      <td>2.36</td>\n",
       "      <td>64.51</td>\n",
       "      <td>66.70</td>\n",
       "      <td>...</td>\n",
       "      <td>NaN</td>\n",
       "      <td>NaN</td>\n",
       "      <td>NaN</td>\n",
       "      <td>NaN</td>\n",
       "      <td>NaN</td>\n",
       "      <td>NaN</td>\n",
       "      <td>NaN</td>\n",
       "      <td>NaN</td>\n",
       "      <td>NaN</td>\n",
       "      <td>NaN</td>\n",
       "    </tr>\n",
       "    <tr>\n",
       "      <th>62</th>\n",
       "      <td>NaN</td>\n",
       "      <td>NaN</td>\n",
       "      <td>무처리</td>\n",
       "      <td>47.81</td>\n",
       "      <td>50.01</td>\n",
       "      <td>47.68</td>\n",
       "      <td>69.08</td>\n",
       "      <td>2.36</td>\n",
       "      <td>64.58</td>\n",
       "      <td>66.22</td>\n",
       "      <td>...</td>\n",
       "      <td>NaN</td>\n",
       "      <td>NaN</td>\n",
       "      <td>NaN</td>\n",
       "      <td>NaN</td>\n",
       "      <td>NaN</td>\n",
       "      <td>NaN</td>\n",
       "      <td>NaN</td>\n",
       "      <td>NaN</td>\n",
       "      <td>NaN</td>\n",
       "      <td>NaN</td>\n",
       "    </tr>\n",
       "    <tr>\n",
       "      <th>63</th>\n",
       "      <td>NaN</td>\n",
       "      <td>NaN</td>\n",
       "      <td>무처리</td>\n",
       "      <td>45.76</td>\n",
       "      <td>49.59</td>\n",
       "      <td>48.23</td>\n",
       "      <td>70.27</td>\n",
       "      <td>2.39</td>\n",
       "      <td>65.22</td>\n",
       "      <td>65.69</td>\n",
       "      <td>...</td>\n",
       "      <td>NaN</td>\n",
       "      <td>NaN</td>\n",
       "      <td>NaN</td>\n",
       "      <td>NaN</td>\n",
       "      <td>NaN</td>\n",
       "      <td>NaN</td>\n",
       "      <td>NaN</td>\n",
       "      <td>NaN</td>\n",
       "      <td>NaN</td>\n",
       "      <td>NaN</td>\n",
       "    </tr>\n",
       "  </tbody>\n",
       "</table>\n",
       "<p>63 rows × 25 columns</p>\n",
       "</div>"
      ],
      "text/plain": [
       "    NaN 1차 (5/23)  NaN 2차(6/3)  3차(6/17) 4차(7/4) 5차(7/19) 6차(7/28) 7차(8/18)  \\\n",
       "1   고농도     48.24  고농도   47.73     50.16   48.88    66.95    66.70    63.17   \n",
       "2   고농도     48.58  고농도   47.45     48.72   49.78    67.71    67.14    63.34   \n",
       "3   고농도     49.09  고농도   47.55     49.40   49.65    67.44    66.54    64.09   \n",
       "4   고농도     48.57  고농도   48.54     48.46   49.50    66.89    67.84    62.36   \n",
       "5   고농도     48.14  고농도   48.41     49.12   49.72    66.68    68.34    62.86   \n",
       "..  ...       ...  ...     ...       ...     ...      ...      ...      ...   \n",
       "59  NaN       NaN  무처리   49.14     48.21   46.77    67.17    62.34    66.16   \n",
       "60  NaN       NaN  무처리   49.33     43.40   47.82    66.91    63.97    66.17   \n",
       "61  NaN       NaN  무처리   46.65     49.79   48.01    69.39     2.36    64.51   \n",
       "62  NaN       NaN  무처리   47.81     50.01   47.68    69.08     2.36    64.58   \n",
       "63  NaN       NaN  무처리   45.76     49.59   48.23    70.27     2.39    65.22   \n",
       "\n",
       "   8차(8/25)  ...  NaN 2차(6/3)  3차(6/17) 4차(7/4) 5차(7/19) 6차(7/28) 7차(8/18)  \\\n",
       "1     64.51  ...  고농도   48.51     48.89   47.15    66.73    62.64    63.99   \n",
       "2     65.04  ...  고농도   49.00     49.64   46.46    67.14    62.59    65.24   \n",
       "3     65.26  ...  고농도   49.02     50.07   47.44    67.19    60.99    65.77   \n",
       "4     65.77  ...  고농도   47.29     48.67   46.68    67.79      NaN    66.44   \n",
       "5     66.18  ...  고농도   48.37     48.85   46.75    66.41      NaN    65.49   \n",
       "..      ...  ...  ...     ...       ...     ...      ...      ...      ...   \n",
       "59    64.31  ...  NaN     NaN       NaN     NaN      NaN      NaN      NaN   \n",
       "60    64.06  ...  NaN     NaN       NaN     NaN      NaN      NaN      NaN   \n",
       "61    66.70  ...  NaN     NaN       NaN     NaN      NaN      NaN      NaN   \n",
       "62    66.22  ...  NaN     NaN       NaN     NaN      NaN      NaN      NaN   \n",
       "63    65.69  ...  NaN     NaN       NaN     NaN      NaN      NaN      NaN   \n",
       "\n",
       "   8차(8/25) 9차(9/7) 10차(9/21)  \n",
       "1     65.78   67.19     67.50  \n",
       "2     65.38   66.68     67.33  \n",
       "3     65.93   68.16     66.43  \n",
       "4     65.43   67.71     67.60  \n",
       "5     65.73   66.73     67.26  \n",
       "..      ...     ...       ...  \n",
       "59      NaN     NaN       NaN  \n",
       "60      NaN     NaN       NaN  \n",
       "61      NaN     NaN       NaN  \n",
       "62      NaN     NaN       NaN  \n",
       "63      NaN     NaN       NaN  \n",
       "\n",
       "[63 rows x 25 columns]"
      ]
     },
     "execution_count": 38,
     "metadata": {},
     "output_type": "execute_result"
    }
   ],
   "source": [
    "search.columns[1:13]\n",
    "search_apple = search.rename(columns = search.iloc[0])\n",
    "search_apple = search_apple.drop(search_apple.index[0])\n",
    "search_apple"
   ]
  },
  {
   "cell_type": "code",
   "execution_count": 105,
   "id": "f297c699",
   "metadata": {
    "scrolled": true
   },
   "outputs": [],
   "source": [
    "dt = search_apple\n",
    "apple = dt.iloc[:, :12]\n",
    "apple_one = dt.iloc[:, :2]\n",
    "apple_one.dropna(inplace = True)"
   ]
  },
  {
   "cell_type": "code",
   "execution_count": 106,
   "id": "86f18088",
   "metadata": {
    "scrolled": true
   },
   "outputs": [
    {
     "data": {
      "text/html": [
       "<div>\n",
       "<style scoped>\n",
       "    .dataframe tbody tr th:only-of-type {\n",
       "        vertical-align: middle;\n",
       "    }\n",
       "\n",
       "    .dataframe tbody tr th {\n",
       "        vertical-align: top;\n",
       "    }\n",
       "\n",
       "    .dataframe thead th {\n",
       "        text-align: right;\n",
       "    }\n",
       "</style>\n",
       "<table border=\"1\" class=\"dataframe\">\n",
       "  <thead>\n",
       "    <tr style=\"text-align: right;\">\n",
       "      <th></th>\n",
       "      <th>농도</th>\n",
       "      <th>1차 (5/23)</th>\n",
       "    </tr>\n",
       "  </thead>\n",
       "  <tbody>\n",
       "    <tr>\n",
       "      <th>1</th>\n",
       "      <td>고농도</td>\n",
       "      <td>48.24</td>\n",
       "    </tr>\n",
       "    <tr>\n",
       "      <th>2</th>\n",
       "      <td>고농도</td>\n",
       "      <td>48.58</td>\n",
       "    </tr>\n",
       "    <tr>\n",
       "      <th>3</th>\n",
       "      <td>고농도</td>\n",
       "      <td>49.09</td>\n",
       "    </tr>\n",
       "    <tr>\n",
       "      <th>4</th>\n",
       "      <td>고농도</td>\n",
       "      <td>48.57</td>\n",
       "    </tr>\n",
       "    <tr>\n",
       "      <th>5</th>\n",
       "      <td>고농도</td>\n",
       "      <td>48.14</td>\n",
       "    </tr>\n",
       "    <tr>\n",
       "      <th>6</th>\n",
       "      <td>고농도</td>\n",
       "      <td>47.95</td>\n",
       "    </tr>\n",
       "    <tr>\n",
       "      <th>7</th>\n",
       "      <td>고농도</td>\n",
       "      <td>48.14</td>\n",
       "    </tr>\n",
       "    <tr>\n",
       "      <th>8</th>\n",
       "      <td>고농도</td>\n",
       "      <td>47.24</td>\n",
       "    </tr>\n",
       "    <tr>\n",
       "      <th>9</th>\n",
       "      <td>고농도</td>\n",
       "      <td>48.32</td>\n",
       "    </tr>\n",
       "    <tr>\n",
       "      <th>10</th>\n",
       "      <td>고농도</td>\n",
       "      <td>47.29</td>\n",
       "    </tr>\n",
       "    <tr>\n",
       "      <th>11</th>\n",
       "      <td>고농도</td>\n",
       "      <td>47.41</td>\n",
       "    </tr>\n",
       "    <tr>\n",
       "      <th>12</th>\n",
       "      <td>고농도</td>\n",
       "      <td>47.66</td>\n",
       "    </tr>\n",
       "    <tr>\n",
       "      <th>13</th>\n",
       "      <td>고농도</td>\n",
       "      <td>48.22</td>\n",
       "    </tr>\n",
       "    <tr>\n",
       "      <th>14</th>\n",
       "      <td>고농도</td>\n",
       "      <td>46.88</td>\n",
       "    </tr>\n",
       "    <tr>\n",
       "      <th>15</th>\n",
       "      <td>고농도</td>\n",
       "      <td>47.86</td>\n",
       "    </tr>\n",
       "    <tr>\n",
       "      <th>16</th>\n",
       "      <td>중농도</td>\n",
       "      <td>48.69</td>\n",
       "    </tr>\n",
       "    <tr>\n",
       "      <th>17</th>\n",
       "      <td>중농도</td>\n",
       "      <td>48.40</td>\n",
       "    </tr>\n",
       "    <tr>\n",
       "      <th>18</th>\n",
       "      <td>중농도</td>\n",
       "      <td>48.57</td>\n",
       "    </tr>\n",
       "    <tr>\n",
       "      <th>19</th>\n",
       "      <td>중농도</td>\n",
       "      <td>49.03</td>\n",
       "    </tr>\n",
       "    <tr>\n",
       "      <th>20</th>\n",
       "      <td>중농도</td>\n",
       "      <td>49.01</td>\n",
       "    </tr>\n",
       "    <tr>\n",
       "      <th>21</th>\n",
       "      <td>중농도</td>\n",
       "      <td>48.37</td>\n",
       "    </tr>\n",
       "    <tr>\n",
       "      <th>22</th>\n",
       "      <td>중농도</td>\n",
       "      <td>48.90</td>\n",
       "    </tr>\n",
       "    <tr>\n",
       "      <th>23</th>\n",
       "      <td>중농도</td>\n",
       "      <td>48.82</td>\n",
       "    </tr>\n",
       "    <tr>\n",
       "      <th>24</th>\n",
       "      <td>중농도</td>\n",
       "      <td>48.69</td>\n",
       "    </tr>\n",
       "    <tr>\n",
       "      <th>25</th>\n",
       "      <td>중농도</td>\n",
       "      <td>46.10</td>\n",
       "    </tr>\n",
       "    <tr>\n",
       "      <th>26</th>\n",
       "      <td>중농도</td>\n",
       "      <td>46.92</td>\n",
       "    </tr>\n",
       "    <tr>\n",
       "      <th>27</th>\n",
       "      <td>중농도</td>\n",
       "      <td>45.33</td>\n",
       "    </tr>\n",
       "    <tr>\n",
       "      <th>28</th>\n",
       "      <td>중농도</td>\n",
       "      <td>47.12</td>\n",
       "    </tr>\n",
       "    <tr>\n",
       "      <th>29</th>\n",
       "      <td>중농도</td>\n",
       "      <td>45.54</td>\n",
       "    </tr>\n",
       "    <tr>\n",
       "      <th>30</th>\n",
       "      <td>중농도</td>\n",
       "      <td>45.74</td>\n",
       "    </tr>\n",
       "    <tr>\n",
       "      <th>31</th>\n",
       "      <td>무처리</td>\n",
       "      <td>47.91</td>\n",
       "    </tr>\n",
       "    <tr>\n",
       "      <th>32</th>\n",
       "      <td>무처리</td>\n",
       "      <td>49.21</td>\n",
       "    </tr>\n",
       "    <tr>\n",
       "      <th>33</th>\n",
       "      <td>무처리</td>\n",
       "      <td>45.69</td>\n",
       "    </tr>\n",
       "    <tr>\n",
       "      <th>34</th>\n",
       "      <td>무처리</td>\n",
       "      <td>47.02</td>\n",
       "    </tr>\n",
       "    <tr>\n",
       "      <th>35</th>\n",
       "      <td>무처리</td>\n",
       "      <td>48.03</td>\n",
       "    </tr>\n",
       "    <tr>\n",
       "      <th>36</th>\n",
       "      <td>무처리</td>\n",
       "      <td>47.42</td>\n",
       "    </tr>\n",
       "    <tr>\n",
       "      <th>37</th>\n",
       "      <td>무처리</td>\n",
       "      <td>46.74</td>\n",
       "    </tr>\n",
       "    <tr>\n",
       "      <th>38</th>\n",
       "      <td>무처리</td>\n",
       "      <td>47.49</td>\n",
       "    </tr>\n",
       "    <tr>\n",
       "      <th>39</th>\n",
       "      <td>무처리</td>\n",
       "      <td>46.96</td>\n",
       "    </tr>\n",
       "    <tr>\n",
       "      <th>40</th>\n",
       "      <td>무처리</td>\n",
       "      <td>45.94</td>\n",
       "    </tr>\n",
       "    <tr>\n",
       "      <th>41</th>\n",
       "      <td>무처리</td>\n",
       "      <td>45.96</td>\n",
       "    </tr>\n",
       "    <tr>\n",
       "      <th>42</th>\n",
       "      <td>무처리</td>\n",
       "      <td>47.01</td>\n",
       "    </tr>\n",
       "    <tr>\n",
       "      <th>43</th>\n",
       "      <td>무처리</td>\n",
       "      <td>48.61</td>\n",
       "    </tr>\n",
       "    <tr>\n",
       "      <th>44</th>\n",
       "      <td>무처리</td>\n",
       "      <td>46.86</td>\n",
       "    </tr>\n",
       "    <tr>\n",
       "      <th>45</th>\n",
       "      <td>무처리</td>\n",
       "      <td>47.47</td>\n",
       "    </tr>\n",
       "  </tbody>\n",
       "</table>\n",
       "</div>"
      ],
      "text/plain": [
       "     농도 1차 (5/23)\n",
       "1   고농도     48.24\n",
       "2   고농도     48.58\n",
       "3   고농도     49.09\n",
       "4   고농도     48.57\n",
       "5   고농도     48.14\n",
       "6   고농도     47.95\n",
       "7   고농도     48.14\n",
       "8   고농도     47.24\n",
       "9   고농도     48.32\n",
       "10  고농도     47.29\n",
       "11  고농도     47.41\n",
       "12  고농도     47.66\n",
       "13  고농도     48.22\n",
       "14  고농도     46.88\n",
       "15  고농도     47.86\n",
       "16  중농도     48.69\n",
       "17  중농도     48.40\n",
       "18  중농도     48.57\n",
       "19  중농도     49.03\n",
       "20  중농도     49.01\n",
       "21  중농도     48.37\n",
       "22  중농도     48.90\n",
       "23  중농도     48.82\n",
       "24  중농도     48.69\n",
       "25  중농도     46.10\n",
       "26  중농도     46.92\n",
       "27  중농도     45.33\n",
       "28  중농도     47.12\n",
       "29  중농도     45.54\n",
       "30  중농도     45.74\n",
       "31  무처리     47.91\n",
       "32  무처리     49.21\n",
       "33  무처리     45.69\n",
       "34  무처리     47.02\n",
       "35  무처리     48.03\n",
       "36  무처리     47.42\n",
       "37  무처리     46.74\n",
       "38  무처리     47.49\n",
       "39  무처리     46.96\n",
       "40  무처리     45.94\n",
       "41  무처리     45.96\n",
       "42  무처리     47.01\n",
       "43  무처리     48.61\n",
       "44  무처리     46.86\n",
       "45  무처리     47.47"
      ]
     },
     "execution_count": 106,
     "metadata": {},
     "output_type": "execute_result"
    }
   ],
   "source": [
    "apple_one = apple_one.rename(columns = {apple.columns[0]:'농도'})\n",
    "apple_one"
   ]
  },
  {
   "cell_type": "code",
   "execution_count": 110,
   "id": "e646c1cf",
   "metadata": {},
   "outputs": [
    {
     "ename": "KeyError",
     "evalue": "'1차 (5/23)'",
     "output_type": "error",
     "traceback": [
      "\u001b[1;31m---------------------------------------------------------------------------\u001b[0m",
      "\u001b[1;31mKeyError\u001b[0m                                  Traceback (most recent call last)",
      "\u001b[1;32m~\\anaconda3\\lib\\site-packages\\pandas\\core\\indexes\\base.py\u001b[0m in \u001b[0;36mget_loc\u001b[1;34m(self, key, method, tolerance)\u001b[0m\n\u001b[0;32m   3360\u001b[0m             \u001b[1;32mtry\u001b[0m\u001b[1;33m:\u001b[0m\u001b[1;33m\u001b[0m\u001b[1;33m\u001b[0m\u001b[0m\n\u001b[1;32m-> 3361\u001b[1;33m                 \u001b[1;32mreturn\u001b[0m \u001b[0mself\u001b[0m\u001b[1;33m.\u001b[0m\u001b[0m_engine\u001b[0m\u001b[1;33m.\u001b[0m\u001b[0mget_loc\u001b[0m\u001b[1;33m(\u001b[0m\u001b[0mcasted_key\u001b[0m\u001b[1;33m)\u001b[0m\u001b[1;33m\u001b[0m\u001b[1;33m\u001b[0m\u001b[0m\n\u001b[0m\u001b[0;32m   3362\u001b[0m             \u001b[1;32mexcept\u001b[0m \u001b[0mKeyError\u001b[0m \u001b[1;32mas\u001b[0m \u001b[0merr\u001b[0m\u001b[1;33m:\u001b[0m\u001b[1;33m\u001b[0m\u001b[1;33m\u001b[0m\u001b[0m\n",
      "\u001b[1;32m~\\anaconda3\\lib\\site-packages\\pandas\\_libs\\index.pyx\u001b[0m in \u001b[0;36mpandas._libs.index.IndexEngine.get_loc\u001b[1;34m()\u001b[0m\n",
      "\u001b[1;32mpandas\\_libs\\index_class_helper.pxi\u001b[0m in \u001b[0;36mpandas._libs.index.Int64Engine._check_type\u001b[1;34m()\u001b[0m\n",
      "\u001b[1;32mpandas\\_libs\\index_class_helper.pxi\u001b[0m in \u001b[0;36mpandas._libs.index.Int64Engine._check_type\u001b[1;34m()\u001b[0m\n",
      "\u001b[1;31mKeyError\u001b[0m: '1차 (5/23)'",
      "\nThe above exception was the direct cause of the following exception:\n",
      "\u001b[1;31mKeyError\u001b[0m                                  Traceback (most recent call last)",
      "\u001b[1;32m~\\AppData\\Local\\Temp\\ipykernel_944\\1623054684.py\u001b[0m in \u001b[0;36m<module>\u001b[1;34m\u001b[0m\n\u001b[1;32m----> 1\u001b[1;33m \u001b[0mapple_one\u001b[0m\u001b[1;33m.\u001b[0m\u001b[0mloc\u001b[0m\u001b[1;33m[\u001b[0m\u001b[1;34m'1차 (5/23)'\u001b[0m\u001b[1;33m]\u001b[0m\u001b[1;33m.\u001b[0m\u001b[0mastype\u001b[0m\u001b[1;33m(\u001b[0m\u001b[1;34m'float'\u001b[0m\u001b[1;33m)\u001b[0m\u001b[1;33m\u001b[0m\u001b[1;33m\u001b[0m\u001b[0m\n\u001b[0m",
      "\u001b[1;32m~\\anaconda3\\lib\\site-packages\\pandas\\core\\indexing.py\u001b[0m in \u001b[0;36m__getitem__\u001b[1;34m(self, key)\u001b[0m\n\u001b[0;32m    929\u001b[0m \u001b[1;33m\u001b[0m\u001b[0m\n\u001b[0;32m    930\u001b[0m             \u001b[0mmaybe_callable\u001b[0m \u001b[1;33m=\u001b[0m \u001b[0mcom\u001b[0m\u001b[1;33m.\u001b[0m\u001b[0mapply_if_callable\u001b[0m\u001b[1;33m(\u001b[0m\u001b[0mkey\u001b[0m\u001b[1;33m,\u001b[0m \u001b[0mself\u001b[0m\u001b[1;33m.\u001b[0m\u001b[0mobj\u001b[0m\u001b[1;33m)\u001b[0m\u001b[1;33m\u001b[0m\u001b[1;33m\u001b[0m\u001b[0m\n\u001b[1;32m--> 931\u001b[1;33m             \u001b[1;32mreturn\u001b[0m \u001b[0mself\u001b[0m\u001b[1;33m.\u001b[0m\u001b[0m_getitem_axis\u001b[0m\u001b[1;33m(\u001b[0m\u001b[0mmaybe_callable\u001b[0m\u001b[1;33m,\u001b[0m \u001b[0maxis\u001b[0m\u001b[1;33m=\u001b[0m\u001b[0maxis\u001b[0m\u001b[1;33m)\u001b[0m\u001b[1;33m\u001b[0m\u001b[1;33m\u001b[0m\u001b[0m\n\u001b[0m\u001b[0;32m    932\u001b[0m \u001b[1;33m\u001b[0m\u001b[0m\n\u001b[0;32m    933\u001b[0m     \u001b[1;32mdef\u001b[0m \u001b[0m_is_scalar_access\u001b[0m\u001b[1;33m(\u001b[0m\u001b[0mself\u001b[0m\u001b[1;33m,\u001b[0m \u001b[0mkey\u001b[0m\u001b[1;33m:\u001b[0m \u001b[0mtuple\u001b[0m\u001b[1;33m)\u001b[0m\u001b[1;33m:\u001b[0m\u001b[1;33m\u001b[0m\u001b[1;33m\u001b[0m\u001b[0m\n",
      "\u001b[1;32m~\\anaconda3\\lib\\site-packages\\pandas\\core\\indexing.py\u001b[0m in \u001b[0;36m_getitem_axis\u001b[1;34m(self, key, axis)\u001b[0m\n\u001b[0;32m   1162\u001b[0m         \u001b[1;31m# fall thru to straight lookup\u001b[0m\u001b[1;33m\u001b[0m\u001b[1;33m\u001b[0m\u001b[0m\n\u001b[0;32m   1163\u001b[0m         \u001b[0mself\u001b[0m\u001b[1;33m.\u001b[0m\u001b[0m_validate_key\u001b[0m\u001b[1;33m(\u001b[0m\u001b[0mkey\u001b[0m\u001b[1;33m,\u001b[0m \u001b[0maxis\u001b[0m\u001b[1;33m)\u001b[0m\u001b[1;33m\u001b[0m\u001b[1;33m\u001b[0m\u001b[0m\n\u001b[1;32m-> 1164\u001b[1;33m         \u001b[1;32mreturn\u001b[0m \u001b[0mself\u001b[0m\u001b[1;33m.\u001b[0m\u001b[0m_get_label\u001b[0m\u001b[1;33m(\u001b[0m\u001b[0mkey\u001b[0m\u001b[1;33m,\u001b[0m \u001b[0maxis\u001b[0m\u001b[1;33m=\u001b[0m\u001b[0maxis\u001b[0m\u001b[1;33m)\u001b[0m\u001b[1;33m\u001b[0m\u001b[1;33m\u001b[0m\u001b[0m\n\u001b[0m\u001b[0;32m   1165\u001b[0m \u001b[1;33m\u001b[0m\u001b[0m\n\u001b[0;32m   1166\u001b[0m     \u001b[1;32mdef\u001b[0m \u001b[0m_get_slice_axis\u001b[0m\u001b[1;33m(\u001b[0m\u001b[0mself\u001b[0m\u001b[1;33m,\u001b[0m \u001b[0mslice_obj\u001b[0m\u001b[1;33m:\u001b[0m \u001b[0mslice\u001b[0m\u001b[1;33m,\u001b[0m \u001b[0maxis\u001b[0m\u001b[1;33m:\u001b[0m \u001b[0mint\u001b[0m\u001b[1;33m)\u001b[0m\u001b[1;33m:\u001b[0m\u001b[1;33m\u001b[0m\u001b[1;33m\u001b[0m\u001b[0m\n",
      "\u001b[1;32m~\\anaconda3\\lib\\site-packages\\pandas\\core\\indexing.py\u001b[0m in \u001b[0;36m_get_label\u001b[1;34m(self, label, axis)\u001b[0m\n\u001b[0;32m   1111\u001b[0m     \u001b[1;32mdef\u001b[0m \u001b[0m_get_label\u001b[0m\u001b[1;33m(\u001b[0m\u001b[0mself\u001b[0m\u001b[1;33m,\u001b[0m \u001b[0mlabel\u001b[0m\u001b[1;33m,\u001b[0m \u001b[0maxis\u001b[0m\u001b[1;33m:\u001b[0m \u001b[0mint\u001b[0m\u001b[1;33m)\u001b[0m\u001b[1;33m:\u001b[0m\u001b[1;33m\u001b[0m\u001b[1;33m\u001b[0m\u001b[0m\n\u001b[0;32m   1112\u001b[0m         \u001b[1;31m# GH#5667 this will fail if the label is not present in the axis.\u001b[0m\u001b[1;33m\u001b[0m\u001b[1;33m\u001b[0m\u001b[0m\n\u001b[1;32m-> 1113\u001b[1;33m         \u001b[1;32mreturn\u001b[0m \u001b[0mself\u001b[0m\u001b[1;33m.\u001b[0m\u001b[0mobj\u001b[0m\u001b[1;33m.\u001b[0m\u001b[0mxs\u001b[0m\u001b[1;33m(\u001b[0m\u001b[0mlabel\u001b[0m\u001b[1;33m,\u001b[0m \u001b[0maxis\u001b[0m\u001b[1;33m=\u001b[0m\u001b[0maxis\u001b[0m\u001b[1;33m)\u001b[0m\u001b[1;33m\u001b[0m\u001b[1;33m\u001b[0m\u001b[0m\n\u001b[0m\u001b[0;32m   1114\u001b[0m \u001b[1;33m\u001b[0m\u001b[0m\n\u001b[0;32m   1115\u001b[0m     \u001b[1;32mdef\u001b[0m \u001b[0m_handle_lowerdim_multi_index_axis0\u001b[0m\u001b[1;33m(\u001b[0m\u001b[0mself\u001b[0m\u001b[1;33m,\u001b[0m \u001b[0mtup\u001b[0m\u001b[1;33m:\u001b[0m \u001b[0mtuple\u001b[0m\u001b[1;33m)\u001b[0m\u001b[1;33m:\u001b[0m\u001b[1;33m\u001b[0m\u001b[1;33m\u001b[0m\u001b[0m\n",
      "\u001b[1;32m~\\anaconda3\\lib\\site-packages\\pandas\\core\\generic.py\u001b[0m in \u001b[0;36mxs\u001b[1;34m(self, key, axis, level, drop_level)\u001b[0m\n\u001b[0;32m   3774\u001b[0m                 \u001b[1;32mraise\u001b[0m \u001b[0mTypeError\u001b[0m\u001b[1;33m(\u001b[0m\u001b[1;34mf\"Expected label or tuple of labels, got {key}\"\u001b[0m\u001b[1;33m)\u001b[0m \u001b[1;32mfrom\u001b[0m \u001b[0me\u001b[0m\u001b[1;33m\u001b[0m\u001b[1;33m\u001b[0m\u001b[0m\n\u001b[0;32m   3775\u001b[0m         \u001b[1;32melse\u001b[0m\u001b[1;33m:\u001b[0m\u001b[1;33m\u001b[0m\u001b[1;33m\u001b[0m\u001b[0m\n\u001b[1;32m-> 3776\u001b[1;33m             \u001b[0mloc\u001b[0m \u001b[1;33m=\u001b[0m \u001b[0mindex\u001b[0m\u001b[1;33m.\u001b[0m\u001b[0mget_loc\u001b[0m\u001b[1;33m(\u001b[0m\u001b[0mkey\u001b[0m\u001b[1;33m)\u001b[0m\u001b[1;33m\u001b[0m\u001b[1;33m\u001b[0m\u001b[0m\n\u001b[0m\u001b[0;32m   3777\u001b[0m \u001b[1;33m\u001b[0m\u001b[0m\n\u001b[0;32m   3778\u001b[0m             \u001b[1;32mif\u001b[0m \u001b[0misinstance\u001b[0m\u001b[1;33m(\u001b[0m\u001b[0mloc\u001b[0m\u001b[1;33m,\u001b[0m \u001b[0mnp\u001b[0m\u001b[1;33m.\u001b[0m\u001b[0mndarray\u001b[0m\u001b[1;33m)\u001b[0m\u001b[1;33m:\u001b[0m\u001b[1;33m\u001b[0m\u001b[1;33m\u001b[0m\u001b[0m\n",
      "\u001b[1;32m~\\anaconda3\\lib\\site-packages\\pandas\\core\\indexes\\base.py\u001b[0m in \u001b[0;36mget_loc\u001b[1;34m(self, key, method, tolerance)\u001b[0m\n\u001b[0;32m   3361\u001b[0m                 \u001b[1;32mreturn\u001b[0m \u001b[0mself\u001b[0m\u001b[1;33m.\u001b[0m\u001b[0m_engine\u001b[0m\u001b[1;33m.\u001b[0m\u001b[0mget_loc\u001b[0m\u001b[1;33m(\u001b[0m\u001b[0mcasted_key\u001b[0m\u001b[1;33m)\u001b[0m\u001b[1;33m\u001b[0m\u001b[1;33m\u001b[0m\u001b[0m\n\u001b[0;32m   3362\u001b[0m             \u001b[1;32mexcept\u001b[0m \u001b[0mKeyError\u001b[0m \u001b[1;32mas\u001b[0m \u001b[0merr\u001b[0m\u001b[1;33m:\u001b[0m\u001b[1;33m\u001b[0m\u001b[1;33m\u001b[0m\u001b[0m\n\u001b[1;32m-> 3363\u001b[1;33m                 \u001b[1;32mraise\u001b[0m \u001b[0mKeyError\u001b[0m\u001b[1;33m(\u001b[0m\u001b[0mkey\u001b[0m\u001b[1;33m)\u001b[0m \u001b[1;32mfrom\u001b[0m \u001b[0merr\u001b[0m\u001b[1;33m\u001b[0m\u001b[1;33m\u001b[0m\u001b[0m\n\u001b[0m\u001b[0;32m   3364\u001b[0m \u001b[1;33m\u001b[0m\u001b[0m\n\u001b[0;32m   3365\u001b[0m         \u001b[1;32mif\u001b[0m \u001b[0mis_scalar\u001b[0m\u001b[1;33m(\u001b[0m\u001b[0mkey\u001b[0m\u001b[1;33m)\u001b[0m \u001b[1;32mand\u001b[0m \u001b[0misna\u001b[0m\u001b[1;33m(\u001b[0m\u001b[0mkey\u001b[0m\u001b[1;33m)\u001b[0m \u001b[1;32mand\u001b[0m \u001b[1;32mnot\u001b[0m \u001b[0mself\u001b[0m\u001b[1;33m.\u001b[0m\u001b[0mhasnans\u001b[0m\u001b[1;33m:\u001b[0m\u001b[1;33m\u001b[0m\u001b[1;33m\u001b[0m\u001b[0m\n",
      "\u001b[1;31mKeyError\u001b[0m: '1차 (5/23)'"
     ]
    }
   ],
   "source": [
    "apple_one.loc['1차 (5/23)'].astype('float')"
   ]
  },
  {
   "cell_type": "code",
   "execution_count": 109,
   "id": "d919315b",
   "metadata": {},
   "outputs": [
    {
     "name": "stderr",
     "output_type": "stream",
     "text": [
      "C:\\Users\\image2\\anaconda3\\lib\\site-packages\\IPython\\core\\interactiveshell.py:3444: FutureWarning: Dropping invalid columns in DataFrameGroupBy.mean is deprecated. In a future version, a TypeError will be raised. Before calling .mean, select only columns which should be valid for the function.\n",
      "  exec(code_obj, self.user_global_ns, self.user_ns)\n"
     ]
    },
    {
     "data": {
      "text/html": [
       "<div>\n",
       "<style scoped>\n",
       "    .dataframe tbody tr th:only-of-type {\n",
       "        vertical-align: middle;\n",
       "    }\n",
       "\n",
       "    .dataframe tbody tr th {\n",
       "        vertical-align: top;\n",
       "    }\n",
       "\n",
       "    .dataframe thead th {\n",
       "        text-align: right;\n",
       "    }\n",
       "</style>\n",
       "<table border=\"1\" class=\"dataframe\">\n",
       "  <thead>\n",
       "    <tr style=\"text-align: right;\">\n",
       "      <th></th>\n",
       "    </tr>\n",
       "    <tr>\n",
       "      <th>농도</th>\n",
       "    </tr>\n",
       "  </thead>\n",
       "  <tbody>\n",
       "    <tr>\n",
       "      <th>고농도</th>\n",
       "    </tr>\n",
       "    <tr>\n",
       "      <th>무처리</th>\n",
       "    </tr>\n",
       "    <tr>\n",
       "      <th>중농도</th>\n",
       "    </tr>\n",
       "  </tbody>\n",
       "</table>\n",
       "</div>"
      ],
      "text/plain": [
       "Empty DataFrame\n",
       "Columns: []\n",
       "Index: [고농도, 무처리, 중농도]"
      ]
     },
     "execution_count": 109,
     "metadata": {},
     "output_type": "execute_result"
    }
   ],
   "source": [
    "apple_one.groupby(['농도']).mean()"
   ]
  },
  {
   "cell_type": "code",
   "execution_count": null,
   "id": "627a0624",
   "metadata": {},
   "outputs": [],
   "source": []
  }
 ],
 "metadata": {
  "kernelspec": {
   "display_name": "Python 3 (ipykernel)",
   "language": "python",
   "name": "python3"
  },
  "language_info": {
   "codemirror_mode": {
    "name": "ipython",
    "version": 3
   },
   "file_extension": ".py",
   "mimetype": "text/x-python",
   "name": "python",
   "nbconvert_exporter": "python",
   "pygments_lexer": "ipython3",
   "version": "3.9.7"
  }
 },
 "nbformat": 4,
 "nbformat_minor": 5
}
